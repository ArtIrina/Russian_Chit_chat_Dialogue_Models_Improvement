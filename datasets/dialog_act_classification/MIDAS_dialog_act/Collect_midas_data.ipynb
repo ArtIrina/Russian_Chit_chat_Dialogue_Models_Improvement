{
 "cells": [
  {
   "cell_type": "code",
   "execution_count": 1,
   "id": "broke-masters",
   "metadata": {},
   "outputs": [],
   "source": [
    "import pandas as pd"
   ]
  },
  {
   "cell_type": "code",
   "execution_count": 12,
   "id": "ceramic-hunter",
   "metadata": {},
   "outputs": [
    {
     "name": "stdout",
     "output_type": "stream",
     "text": [
      "10287\n"
     ]
    }
   ],
   "source": [
    "\n",
    "data_type = \"train\"\n",
    "# data_type = \"dev\"\n",
    "\n",
    "with open(f\"da_data/{data_type}.txt\", \"r\") as f:\n",
    "    data = f.read().splitlines()\n",
    "\n",
    "print(len(data))\n"
   ]
  },
  {
   "cell_type": "markdown",
   "id": "southwest-psychology",
   "metadata": {},
   "source": [
    "# Recollect initial data with all classes"
   ]
  },
  {
   "cell_type": "code",
   "execution_count": 13,
   "id": "possible-reduction",
   "metadata": {},
   "outputs": [
    {
     "name": "stdout",
     "output_type": "stream",
     "text": [
      "(10287, 2)\n",
      "                                                text           joint_labels\n",
      "0  how about another short piece of football news...  open_question_factual\n",
      "1  do you want to hear some fun facts about cats ...     pos_answer;command\n",
      "2                    did you know that : yes > i did             pos_answer\n",
      "3  what is the team that you are rooting for in m...                opinion\n",
      "4  are you talking about a specific movie : not g...             pos_answer\n",
      "opinion                          1751\n",
      "statement                        1364\n",
      "pos_answer                        991\n",
      "neg_answer                        686\n",
      "pos_answer;command                563\n",
      "closing                           540\n",
      "command                           522\n",
      "abandon                           351\n",
      "comment                           347\n",
      "back-channeling                   333\n",
      "other_answers                     333\n",
      "open_question_factual             283\n",
      "neg_answer;command                278\n",
      "yes_no_question                   248\n",
      "hold                              225\n",
      "complaint                         195\n",
      "open_question_opinion             190\n",
      "appreciation                      161\n",
      "command;opinion                   156\n",
      "command;statement                 116\n",
      "pos_answer;statement              111\n",
      "nonsense                          107\n",
      "command;yes_no_question            92\n",
      "dev_command                        73\n",
      "thanking                           73\n",
      "neg_answer;statement               48\n",
      "pos_answer;opinion                 32\n",
      "apology                            24\n",
      "opening                            22\n",
      "dev_command;yes_no_question        13\n",
      "other                              10\n",
      "command;open_question_opinion       8\n",
      "neg_answer;opinion                  8\n",
      "command;open_question_factual       8\n",
      "respond_to_apology                  6\n",
      "command;complaint                   5\n",
      "pos_answer;comment                  4\n",
      "opinion;yes_no_question             3\n",
      "other_answers;opinion               3\n",
      "opinion;open_question_opinion       2\n",
      "neg_answer;comment                  2\n",
      "Name: joint_labels, dtype: int64\n"
     ]
    }
   ],
   "source": [
    "\n",
    "df = {\"text\": [],\n",
    "      # \"labels\": [],\n",
    "      \"joint_labels\": []\n",
    "}\n",
    "for row in data:\n",
    "    splitted_row = row.split(\" ## \")\n",
    "    try:\n",
    "        splitted_row[1] = splitted_row[1].split(\";\")\n",
    "        splitted_row[1] = [el for el in splitted_row[1] if el]\n",
    "        df[\"text\"].append(splitted_row[0])\n",
    "        # df[\"labels\"].append(splitted_row[1])\n",
    "        df[\"joint_labels\"].append(\";\".join(splitted_row[1]))\n",
    "    except:\n",
    "        pass\n",
    "\n",
    "\n",
    "data = pd.DataFrame(df)\n",
    "print(data.shape)\n",
    "print(data.head())\n",
    "print(data[\"joint_labels\"].value_counts())\n",
    "# data.to_csv(f\"midas_{data_type}.csv\", index=False, sep=\",\")"
   ]
  },
  {
   "cell_type": "markdown",
   "id": "sensitive-error",
   "metadata": {},
   "source": [
    "# Recollect initial data with chosen classes"
   ]
  },
  {
   "cell_type": "code",
   "execution_count": 14,
   "id": "beneficial-destruction",
   "metadata": {},
   "outputs": [],
   "source": [
    "considered = [\"neg_answer\", \"open_question_factual\", \"open_question_opinion\",\n",
    "              \"opinion\", \"other_answers\", \"pos_answer\", \"statement\", \"yes_no_question\"]\n",
    "questions = [\"open_question_factual\", \"open_question_opinion\",\n",
    "             \"yes_no_question\"]"
   ]
  },
  {
   "cell_type": "code",
   "execution_count": 15,
   "id": "victorian-latin",
   "metadata": {},
   "outputs": [
    {
     "name": "stdout",
     "output_type": "stream",
     "text": [
      "10287\n",
      "(7086, 3)\n",
      "                                                text   binary_labels  \\\n",
      "0  how about another short piece of football news...   some_question   \n",
      "1  do you want to hear some fun facts about cats ...  some_statement   \n",
      "2                    did you know that : yes > i did  some_statement   \n",
      "3  what is the team that you are rooting for in m...  some_statement   \n",
      "4  are you talking about a specific movie : not g...  some_statement   \n",
      "\n",
      "            joint_labels  \n",
      "0  open_question_factual  \n",
      "1             pos_answer  \n",
      "2             pos_answer  \n",
      "3                opinion  \n",
      "4             pos_answer  \n",
      "opinion                  1907\n",
      "pos_answer               1558\n",
      "statement                1480\n",
      "neg_answer                966\n",
      "yes_no_question           353\n",
      "other_answers             333\n",
      "open_question_factual     291\n",
      "open_question_opinion     198\n",
      "Name: joint_labels, dtype: int64\n",
      "some_statement    6244\n",
      "some_question      842\n",
      "Name: binary_labels, dtype: int64\n"
     ]
    }
   ],
   "source": [
    "with open(f\"da_data/{data_type}.txt\", \"r\") as f:\n",
    "    data = f.read().splitlines()\n",
    "    \n",
    "print(len(data))\n",
    "\n",
    "df = {\"text\": [],\n",
    "      \"binary_labels\": [],\n",
    "      \"joint_labels\": []\n",
    "}\n",
    "for row in data:\n",
    "    splitted_row = row.split(\" ## \")\n",
    "    try:\n",
    "        splitted_row[1] = splitted_row[1].split(\";\")\n",
    "        splitted_row[1] = [el for el in splitted_row[1] if el and el in considered]\n",
    "        if len(splitted_row[1]) == 1:\n",
    "            df[\"text\"].append(splitted_row[0])\n",
    "            df[\"joint_labels\"].append(splitted_row[1][0])\n",
    "            if splitted_row[1][0] in questions:\n",
    "                df[\"binary_labels\"].append(\"some_question\")\n",
    "            else:\n",
    "                df[\"binary_labels\"].append(\"some_statement\")\n",
    "                \n",
    "    except:\n",
    "        pass\n",
    "\n",
    "\n",
    "data = pd.DataFrame(df)\n",
    "print(data.shape)\n",
    "print(data.head())\n",
    "print(data[\"joint_labels\"].value_counts())\n",
    "print(data[\"binary_labels\"].value_counts())\n",
    "data.to_csv(f\"~/.deeppavlov/downloads/midas/midas_part_classes_{data_type}.csv\", index=False, sep=\",\")"
   ]
  },
  {
   "cell_type": "code",
   "execution_count": null,
   "id": "illegal-skating",
   "metadata": {},
   "outputs": [],
   "source": []
  }
 ],
 "metadata": {
  "kernelspec": {
   "display_name": "Python 3 (ipykernel)",
   "language": "python",
   "name": "python3"
  },
  "language_info": {
   "codemirror_mode": {
    "name": "ipython",
    "version": 3
   },
   "file_extension": ".py",
   "mimetype": "text/x-python",
   "name": "python",
   "nbconvert_exporter": "python",
   "pygments_lexer": "ipython3",
   "version": "3.8.8"
  }
 },
 "nbformat": 4,
 "nbformat_minor": 5
}
