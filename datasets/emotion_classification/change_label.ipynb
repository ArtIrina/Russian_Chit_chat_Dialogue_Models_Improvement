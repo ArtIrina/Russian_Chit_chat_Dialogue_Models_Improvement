{
 "cells": [
  {
   "cell_type": "code",
   "execution_count": 14,
   "id": "358d3b80",
   "metadata": {},
   "outputs": [],
   "source": [
    "import pandas as pd\n",
    "import numpy as np"
   ]
  },
  {
   "cell_type": "code",
   "execution_count": 15,
   "id": "57365c93",
   "metadata": {},
   "outputs": [],
   "source": [
    "codes = {0: \"joy\", 1: \"sadness\", 2: \"surprise\", 3: \"fear\", 4: \"anger\"}"
   ]
  },
  {
   "cell_type": "code",
   "execution_count": 16,
   "id": "85542458",
   "metadata": {},
   "outputs": [],
   "source": [
    "train = pd.read_csv(\"emotion_train_to_model.csv\") \n",
    "# train = pd.read_csv(\"emotion_test_to_model.csv\")\n",
    "# train = pd.read_csv(\"emotion_val_to_model.csv\")"
   ]
  },
  {
   "cell_type": "code",
   "execution_count": null,
   "id": "dee797be",
   "metadata": {},
   "outputs": [],
   "source": [
    "import re"
   ]
  },
  {
   "cell_type": "code",
   "execution_count": null,
   "id": "7b9301ec",
   "metadata": {},
   "outputs": [],
   "source": [
    "train.loc[:, 'label'] = train.label.apply(lambda x: re.sub(r\"[\\[\\]\\'\\\\n\\\\t\\\\r\\\\xa0]\", '', str(x)))"
   ]
  },
  {
   "cell_type": "code",
   "execution_count": 17,
   "id": "95169a5d",
   "metadata": {},
   "outputs": [
    {
     "data": {
      "text/plain": [
       "array(['sadness', 'joy', 'fear', 'anger', 'surprise', '1, 4, '],\n",
       "      dtype=object)"
      ]
     },
     "execution_count": 17,
     "metadata": {},
     "output_type": "execute_result"
    }
   ],
   "source": [
    "train.label.unique()"
   ]
  },
  {
   "cell_type": "code",
   "execution_count": null,
   "id": "4031ba83",
   "metadata": {},
   "outputs": [],
   "source": [
    "train.loc[(train.label == ''), 'label'] = codes[0]  \n",
    "train.loc[(train.label == ', 1'), 'label'] = codes[0]\n",
    "train.loc[(train.label == ', 2'), 'label'] = codes[0]\n",
    "train.loc[(train.label == ', 3'), 'label'] = codes[0]\n",
    "train.loc[(train.label == ', 4'), 'label'] = codes[0]"
   ]
  },
  {
   "cell_type": "code",
   "execution_count": null,
   "id": "7755c0f6",
   "metadata": {},
   "outputs": [],
   "source": [
    "train.loc[train.label == 'joy']"
   ]
  },
  {
   "cell_type": "code",
   "execution_count": 18,
   "id": "3a4f0176",
   "metadata": {},
   "outputs": [],
   "source": [
    "train.loc[(train.label == '1'), 'label'] = codes[1]  \n",
    "train.loc[(train.label == '1, '), 'label'] = codes[1]\n",
    "train.loc[(train.label == '1, 2'), 'label'] = codes[1]\n",
    "train.loc[(train.label == '1, 3'), 'label'] = codes[1]\n",
    "train.loc[(train.label == '1, 4'), 'label'] = codes[1]\n",
    "train.loc[(train.label == '1, 4, '), 'label'] = codes[1]"
   ]
  },
  {
   "cell_type": "code",
   "execution_count": 19,
   "id": "5e5188f9",
   "metadata": {},
   "outputs": [
    {
     "data": {
      "text/html": [
       "<div>\n",
       "<style scoped>\n",
       "    .dataframe tbody tr th:only-of-type {\n",
       "        vertical-align: middle;\n",
       "    }\n",
       "\n",
       "    .dataframe tbody tr th {\n",
       "        vertical-align: top;\n",
       "    }\n",
       "\n",
       "    .dataframe thead th {\n",
       "        text-align: right;\n",
       "    }\n",
       "</style>\n",
       "<table border=\"1\" class=\"dataframe\">\n",
       "  <thead>\n",
       "    <tr style=\"text-align: right;\">\n",
       "      <th></th>\n",
       "      <th>Unnamed: 0</th>\n",
       "      <th>text</th>\n",
       "      <th>label</th>\n",
       "    </tr>\n",
       "  </thead>\n",
       "  <tbody>\n",
       "    <tr>\n",
       "      <th>0</th>\n",
       "      <td>0</td>\n",
       "      <td>Пессимизм в том , что систему не сломить , что...</td>\n",
       "      <td>sadness</td>\n",
       "    </tr>\n",
       "    <tr>\n",
       "      <th>3</th>\n",
       "      <td>3</td>\n",
       "      <td>Опять пытаются запугать гексогеном(</td>\n",
       "      <td>sadness</td>\n",
       "    </tr>\n",
       "    <tr>\n",
       "      <th>4</th>\n",
       "      <td>4</td>\n",
       "      <td>#JustinStopDoingTattoo я плачу:(   иду делать ...</td>\n",
       "      <td>sadness</td>\n",
       "    </tr>\n",
       "    <tr>\n",
       "      <th>5</th>\n",
       "      <td>5</td>\n",
       "      <td>Плачет же !</td>\n",
       "      <td>sadness</td>\n",
       "    </tr>\n",
       "    <tr>\n",
       "      <th>12</th>\n",
       "      <td>12</td>\n",
       "      <td>Сердце дракона... Один из первых фильмов, с ко...</td>\n",
       "      <td>sadness</td>\n",
       "    </tr>\n",
       "    <tr>\n",
       "      <th>...</th>\n",
       "      <td>...</td>\n",
       "      <td>...</td>\n",
       "      <td>...</td>\n",
       "    </tr>\n",
       "    <tr>\n",
       "      <th>5999</th>\n",
       "      <td>5999</td>\n",
       "      <td>Значит мы с Вами братья по несчастью знать его...</td>\n",
       "      <td>sadness</td>\n",
       "    </tr>\n",
       "    <tr>\n",
       "      <th>6002</th>\n",
       "      <td>6002</td>\n",
       "      <td>Милостей не от кого не дождешься,какие же все ...</td>\n",
       "      <td>sadness</td>\n",
       "    </tr>\n",
       "    <tr>\n",
       "      <th>6005</th>\n",
       "      <td>6005</td>\n",
       "      <td>И как пили чай , и как дуло из всех щелей , Ка...</td>\n",
       "      <td>sadness</td>\n",
       "    </tr>\n",
       "    <tr>\n",
       "      <th>6009</th>\n",
       "      <td>6009</td>\n",
       "      <td>А потом я бегала по какому-то замку и меня хот...</td>\n",
       "      <td>sadness</td>\n",
       "    </tr>\n",
       "    <tr>\n",
       "      <th>6011</th>\n",
       "      <td>6011</td>\n",
       "      <td>Было больно и слезы так и катились , чтобы заг...</td>\n",
       "      <td>sadness</td>\n",
       "    </tr>\n",
       "  </tbody>\n",
       "</table>\n",
       "<p>1123 rows × 3 columns</p>\n",
       "</div>"
      ],
      "text/plain": [
       "      Unnamed: 0                                               text    label\n",
       "0              0  Пессимизм в том , что систему не сломить , что...  sadness\n",
       "3              3                Опять пытаются запугать гексогеном(  sadness\n",
       "4              4  #JustinStopDoingTattoo я плачу:(   иду делать ...  sadness\n",
       "5              5                                        Плачет же !  sadness\n",
       "12            12  Сердце дракона... Один из первых фильмов, с ко...  sadness\n",
       "...          ...                                                ...      ...\n",
       "5999        5999  Значит мы с Вами братья по несчастью знать его...  sadness\n",
       "6002        6002  Милостей не от кого не дождешься,какие же все ...  sadness\n",
       "6005        6005  И как пили чай , и как дуло из всех щелей , Ка...  sadness\n",
       "6009        6009  А потом я бегала по какому-то замку и меня хот...  sadness\n",
       "6011        6011  Было больно и слезы так и катились , чтобы заг...  sadness\n",
       "\n",
       "[1123 rows x 3 columns]"
      ]
     },
     "execution_count": 19,
     "metadata": {},
     "output_type": "execute_result"
    }
   ],
   "source": [
    "train.loc[train.label == 'sadness']"
   ]
  },
  {
   "cell_type": "code",
   "execution_count": null,
   "id": "cf501098",
   "metadata": {},
   "outputs": [],
   "source": [
    "train.loc[(train.label == '2'), 'label'] = codes[2]  \n",
    "train.loc[(train.label == '2, '), 'label'] = codes[2]\n",
    "train.loc[(train.label == '2, 1'), 'label'] = codes[2]\n",
    "train.loc[(train.label == '2, 3'), 'label'] = codes[2]\n",
    "train.loc[(train.label == '2, 4'), 'label'] = codes[2]"
   ]
  },
  {
   "cell_type": "code",
   "execution_count": null,
   "id": "49ada184",
   "metadata": {},
   "outputs": [],
   "source": [
    "train.loc[train.label == 'surprise']"
   ]
  },
  {
   "cell_type": "code",
   "execution_count": null,
   "id": "6e66c5c5",
   "metadata": {},
   "outputs": [],
   "source": [
    "train.loc[(train.label == '3'), 'label'] = codes[3]  \n",
    "train.loc[(train.label == '3, '), 'label'] = codes[3]\n",
    "train.loc[(train.label == '3, 1'), 'label'] = codes[3]\n",
    "train.loc[(train.label == '3, 2'), 'label'] = codes[3]\n",
    "train.loc[(train.label == '3, 4'), 'label'] = codes[3]"
   ]
  },
  {
   "cell_type": "code",
   "execution_count": null,
   "id": "7ad9dd39",
   "metadata": {},
   "outputs": [],
   "source": [
    "train.loc[train.label == 'fear']"
   ]
  },
  {
   "cell_type": "code",
   "execution_count": null,
   "id": "181512ba",
   "metadata": {},
   "outputs": [],
   "source": [
    "train.loc[(train.label == '4'), 'label'] = codes[4]  \n",
    "train.loc[(train.label == '4, '), 'label'] = codes[4]\n",
    "train.loc[(train.label == '4, 1'), 'label'] = codes[4]\n",
    "train.loc[(train.label == '4, 2'), 'label'] = codes[4]\n",
    "train.loc[(train.label == '4, 3'), 'label'] = codes[4]"
   ]
  },
  {
   "cell_type": "code",
   "execution_count": null,
   "id": "ecd3f740",
   "metadata": {},
   "outputs": [],
   "source": [
    "train.loc[train.label == 'anger']"
   ]
  },
  {
   "cell_type": "code",
   "execution_count": 20,
   "id": "d2bb6cb7",
   "metadata": {},
   "outputs": [],
   "source": [
    "# train.to_csv('emotion_train_to_model.csv', index=False)\n",
    "# train.to_csv('emotion_test_to_model.csv', index=False)\n",
    "train.to_csv('emotion_val_to_model.csv', index=False)"
   ]
  },
  {
   "cell_type": "code",
   "execution_count": null,
   "id": "fb5ae6b2",
   "metadata": {},
   "outputs": [],
   "source": [
    "# train = pd.read_csv(\"emotion_train_to_model.csv\")\n",
    "# train = pd.read_csv(\"emotion_test_to_model.csv\")\n",
    "train = pd.read_csv(\"emotion_val_to_model.csv\")\n",
    "train"
   ]
  }
 ],
 "metadata": {
  "kernelspec": {
   "display_name": "Python 3 (ipykernel)",
   "language": "python",
   "name": "python3"
  },
  "language_info": {
   "codemirror_mode": {
    "name": "ipython",
    "version": 3
   },
   "file_extension": ".py",
   "mimetype": "text/x-python",
   "name": "python",
   "nbconvert_exporter": "python",
   "pygments_lexer": "ipython3",
   "version": "3.8.8"
  }
 },
 "nbformat": 4,
 "nbformat_minor": 5
}
