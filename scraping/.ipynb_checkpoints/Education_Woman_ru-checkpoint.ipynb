{
 "cells": [
  {
   "cell_type": "markdown",
   "metadata": {},
   "source": [
    "https://www.woman.ru/psycho/education/forum/?sort=new"
   ]
  },
  {
   "cell_type": "code",
   "execution_count": 1,
   "metadata": {},
   "outputs": [],
   "source": [
    "# pip install bs"
   ]
  },
  {
   "cell_type": "code",
   "execution_count": 2,
   "metadata": {},
   "outputs": [
    {
     "data": {
      "text/html": [
       "<div>\n",
       "<style scoped>\n",
       "    .dataframe tbody tr th:only-of-type {\n",
       "        vertical-align: middle;\n",
       "    }\n",
       "\n",
       "    .dataframe tbody tr th {\n",
       "        vertical-align: top;\n",
       "    }\n",
       "\n",
       "    .dataframe thead th {\n",
       "        text-align: right;\n",
       "    }\n",
       "</style>\n",
       "<table border=\"1\" class=\"dataframe\">\n",
       "  <thead>\n",
       "    <tr style=\"text-align: right;\">\n",
       "      <th></th>\n",
       "      <th>text</th>\n",
       "    </tr>\n",
       "  </thead>\n",
       "  <tbody>\n",
       "  </tbody>\n",
       "</table>\n",
       "</div>"
      ],
      "text/plain": [
       "Empty DataFrame\n",
       "Columns: [text]\n",
       "Index: []"
      ]
     },
     "execution_count": 2,
     "metadata": {},
     "output_type": "execute_result"
    }
   ],
   "source": [
    "import pandas as pd\n",
    "from bs4 import BeautifulSoup\n",
    "import requests\n",
    "from tqdm.notebook import tqdm\n",
    "import re\n",
    "\n",
    "df = pd.DataFrame(columns=['text'])\n",
    "df"
   ]
  },
  {
   "cell_type": "code",
   "execution_count": 3,
   "metadata": {},
   "outputs": [],
   "source": [
    "url = 'https://www.woman.ru/psycho/education/forum/?sort=new'"
   ]
  },
  {
   "cell_type": "code",
   "execution_count": 4,
   "metadata": {},
   "outputs": [
    {
     "name": "stdout",
     "output_type": "stream",
     "text": [
      "<Response [200]>\n"
     ]
    }
   ],
   "source": [
    "response = requests.get(url)\n",
    "print(response)"
   ]
  },
  {
   "cell_type": "code",
   "execution_count": 5,
   "metadata": {},
   "outputs": [],
   "source": [
    "html = response.text"
   ]
  },
  {
   "cell_type": "code",
   "execution_count": 6,
   "metadata": {},
   "outputs": [],
   "source": [
    "# bs = BeautifulSoup(response.text,\"lxml\")\n",
    "# print(bs)"
   ]
  },
  {
   "cell_type": "code",
   "execution_count": null,
   "metadata": {
    "scrolled": true
   },
   "outputs": [
    {
     "data": {
      "application/vnd.jupyter.widget-view+json": {
       "model_id": "89defaacf4d741bebaac3dcd0449eaf2",
       "version_major": 2,
       "version_minor": 0
      },
      "text/plain": [
       "  0%|          | 0/50 [00:00<?, ?it/s]"
      ]
     },
     "metadata": {},
     "output_type": "display_data"
    },
    {
     "name": "stdout",
     "output_type": "stream",
     "text": [
      "https://www.woman.ru/psycho/education/thread/5819938/\n",
      "https://www.woman.ru/psycho/education/thread/5819933/\n",
      "https://www.woman.ru/psycho/education/thread/5819793/\n",
      "https://www.woman.ru/psycho/education/thread/5819555/\n",
      "https://www.woman.ru/psycho/education/thread/5819460/\n",
      "https://www.woman.ru/psycho/education/thread/5819453/\n",
      "https://www.woman.ru/psycho/education/thread/5819402/\n",
      "https://www.woman.ru/psycho/education/thread/5819279/\n",
      "https://www.woman.ru/psycho/education/thread/5818983/\n",
      "https://www.woman.ru/psycho/education/thread/5818773/\n",
      "https://www.woman.ru/psycho/education/thread/5818745/\n",
      "https://www.woman.ru/psycho/education/thread/5818645/\n",
      "https://www.woman.ru/psycho/education/thread/5818258/\n",
      "https://www.woman.ru/psycho/education/thread/5817961/\n",
      "https://www.woman.ru/psycho/education/thread/5817912/\n",
      "https://www.woman.ru/psycho/education/thread/5817900/\n",
      "https://www.woman.ru/psycho/education/thread/5817797/\n",
      "https://www.woman.ru/psycho/education/thread/5817708/\n",
      "https://www.woman.ru/psycho/education/thread/5817561/\n",
      "https://www.woman.ru/psycho/education/thread/5817460/\n",
      "https://www.woman.ru/psycho/education/thread/5817208/\n",
      "https://www.woman.ru/psycho/education/thread/5817184/\n",
      "https://www.woman.ru/psycho/education/thread/5817173/\n",
      "https://www.woman.ru/psycho/education/thread/5817094/\n",
      "https://www.woman.ru/psycho/education/thread/5816920/\n",
      "https://www.woman.ru/psycho/education/thread/5816915/\n",
      "https://www.woman.ru/psycho/education/thread/5816911/\n",
      "https://www.woman.ru/psycho/education/thread/5816890/\n",
      "https://www.woman.ru/psycho/education/thread/5816800/\n",
      "https://www.woman.ru/psycho/education/thread/5816427/\n",
      "https://www.woman.ru/psycho/education/thread/5816402/\n",
      "https://www.woman.ru/psycho/education/thread/5816393/\n",
      "https://www.woman.ru/psycho/education/thread/5815916/\n",
      "https://www.woman.ru/psycho/education/thread/5815854/\n",
      "https://www.woman.ru/psycho/education/thread/5815840/\n",
      "https://www.woman.ru/psycho/education/thread/5815660/\n",
      "https://www.woman.ru/psycho/education/thread/5815539/\n",
      "https://www.woman.ru/psycho/education/thread/5815121/\n",
      "https://www.woman.ru/psycho/education/thread/5814907/\n",
      "https://www.woman.ru/psycho/education/thread/5814755/\n",
      "https://www.woman.ru/psycho/education/thread/5814701/\n",
      "https://www.woman.ru/psycho/education/thread/5814684/\n",
      "https://www.woman.ru/psycho/education/thread/5814076/\n",
      "https://www.woman.ru/psycho/education/thread/5814335/\n",
      "https://www.woman.ru/psycho/education/thread/5814309/\n",
      "https://www.woman.ru/psycho/education/thread/5814184/\n",
      "https://www.woman.ru/psycho/education/thread/5814037/\n",
      "https://www.woman.ru/psycho/education/thread/5813497/\n",
      "https://www.woman.ru/psycho/education/thread/5813718/\n",
      "https://www.woman.ru/psycho/education/thread/5813652/\n"
     ]
    },
    {
     "data": {
      "application/vnd.jupyter.widget-view+json": {
       "model_id": "3e149f7f9e36407eab63e3c6ee4d6648",
       "version_major": 2,
       "version_minor": 0
      },
      "text/plain": [
       "  0%|          | 0/9 [00:00<?, ?it/s]"
      ]
     },
     "metadata": {},
     "output_type": "display_data"
    },
    {
     "data": {
      "application/vnd.jupyter.widget-view+json": {
       "model_id": "3db0b776053547638900b41c6f6d5d88",
       "version_major": 2,
       "version_minor": 0
      },
      "text/plain": [
       "  0%|          | 0/50 [00:00<?, ?it/s]"
      ]
     },
     "metadata": {},
     "output_type": "display_data"
    },
    {
     "name": "stdout",
     "output_type": "stream",
     "text": [
      "https://www.woman.ru/psycho/education/thread/5813610/\n",
      "https://www.woman.ru/psycho/education/thread/5813513/\n",
      "https://www.woman.ru/psycho/education/thread/5813509/\n",
      "https://www.woman.ru/psycho/education/thread/5813404/\n",
      "https://www.woman.ru/psycho/education/thread/5813372/\n",
      "https://www.woman.ru/psycho/education/thread/5813322/\n",
      "https://www.woman.ru/psycho/education/thread/5813313/\n",
      "https://www.woman.ru/psycho/education/thread/5813301/\n",
      "https://www.woman.ru/psycho/education/thread/5813143/\n",
      "https://www.woman.ru/psycho/education/thread/5812973/\n",
      "https://www.woman.ru/psycho/education/thread/5812950/\n",
      "https://www.woman.ru/psycho/education/thread/5812804/\n",
      "https://www.woman.ru/psycho/education/thread/5812652/\n",
      "https://www.woman.ru/psycho/education/thread/5812548/\n",
      "https://www.woman.ru/psycho/education/thread/5812282/\n",
      "https://www.woman.ru/psycho/education/thread/5812268/\n",
      "https://www.woman.ru/psycho/education/thread/5812091/\n",
      "https://www.woman.ru/psycho/education/thread/5812068/\n",
      "https://www.woman.ru/psycho/education/thread/5812039/\n",
      "https://www.woman.ru/psycho/education/thread/5811980/\n",
      "https://www.woman.ru/psycho/education/thread/5811906/\n",
      "https://www.woman.ru/psycho/education/thread/5811902/\n",
      "https://www.woman.ru/psycho/education/thread/5811785/\n",
      "https://www.woman.ru/psycho/education/thread/5811734/\n",
      "https://www.woman.ru/psycho/education/thread/5811342/\n",
      "https://www.woman.ru/psycho/education/thread/5811296/\n",
      "https://www.woman.ru/psycho/education/thread/5811294/\n",
      "https://www.woman.ru/psycho/education/thread/5811043/\n",
      "https://www.woman.ru/psycho/education/thread/5810968/\n",
      "https://www.woman.ru/psycho/education/thread/5810911/\n",
      "https://www.woman.ru/psycho/education/thread/5810773/\n",
      "https://www.woman.ru/psycho/education/thread/5810662/\n",
      "https://www.woman.ru/psycho/education/thread/5810604/\n",
      "https://www.woman.ru/psycho/education/thread/5810399/\n",
      "https://www.woman.ru/psycho/education/thread/5810314/\n",
      "https://www.woman.ru/psycho/education/thread/5810163/\n",
      "https://www.woman.ru/psycho/education/thread/5810142/\n",
      "https://www.woman.ru/psycho/education/thread/5810009/\n",
      "https://www.woman.ru/psycho/education/thread/5809845/\n",
      "https://www.woman.ru/psycho/education/thread/5809787/\n",
      "https://www.woman.ru/psycho/education/thread/5809784/\n",
      "https://www.woman.ru/psycho/education/thread/5809735/\n",
      "https://www.woman.ru/psycho/education/thread/5809696/\n",
      "https://www.woman.ru/psycho/education/thread/5809530/\n",
      "https://www.woman.ru/psycho/education/thread/5809487/\n",
      "https://www.woman.ru/psycho/education/thread/5809439/\n",
      "https://www.woman.ru/psycho/education/thread/5809337/\n",
      "https://www.woman.ru/psycho/education/thread/5809327/\n",
      "https://www.woman.ru/psycho/education/thread/5809318/\n",
      "https://www.woman.ru/psycho/education/thread/5809312/\n"
     ]
    }
   ],
   "source": [
    "from urllib.request import Request, urlopen\n",
    "from bs4 import BeautifulSoup\n",
    "import requests\n",
    "import json\n",
    "\n",
    "def get_html(url):\n",
    "    response = requests.get(url)\n",
    "    return response.text\n",
    "\n",
    "def get_all_links(html):\n",
    "    soup = BeautifulSoup(html, features=\"html.parser\")\n",
    "    links = []\n",
    "    tds = soup.find_all('div', {'class': 'page__content'})\n",
    "    for td in tds:\n",
    "        p = td.find_all('ul', {'class': 'list__container'})\n",
    "        for i in p:\n",
    "            q = i.find_all('li', {'class': \"list-item\"})\n",
    "            for l in q:\n",
    "                links.append(l.a['href'])\n",
    "    return links\n",
    "\n",
    "# def get_all_links_on_page(html, link):\n",
    "#     soup = BeautifulSoup(html, features=\"html.parser\")\n",
    "#     tds = soup.find_all('tr')\n",
    "#     for td in tds:\n",
    "#         i = td.find('td', {'class':'td-block'})\n",
    "#         if i != None:\n",
    "#             return(i.find_all('a')[-1].text)\n",
    "    \n",
    "def get_links(html, link):\n",
    "    soup = BeautifulSoup(html, features=\"html.parser\")\n",
    "    links = []\n",
    "    tds = soup.find_all('li', {'class':'ipsPagination_page'})\n",
    "    for td in tds:\n",
    "        p = td.find_all('a')\n",
    "        for q in p:\n",
    "            if link in q['href']:\n",
    "                links.append(q['href'])\n",
    "    if len(links) == 0:\n",
    "        return [link]\n",
    "    return sorted(list(set(links)))\n",
    "\n",
    "def get_all_links_one_theme(html):\n",
    "    soup = BeautifulSoup(html, features=\"html.parser\")\n",
    "    links = []\n",
    "    tds = soup.find_all('h4', {'class':'ipsDataItem_title ipsType_break'})\n",
    "    for td in tds:\n",
    "        p = td.find_all('a')\n",
    "        for q in p:\n",
    "            links.append(q['href'])\n",
    "    return links\n",
    "\n",
    "def get_page_data(html):\n",
    "    soup = BeautifulSoup(urlopen(str(html.encode('utf-8'))[2:-1]), features=\"html.parser\")\n",
    "\n",
    "    # user\n",
    "    tds = soup.find_all('div', {'class':\"card__container\"})\n",
    "    users = []\n",
    "    for td in tds:\n",
    "        p = td.find_all('div', {'class':\"user__maindata\"})\n",
    "        for q in p:\n",
    "            u = q.find_all('div', {'class':\"user__name\"})\n",
    "            for i in u:\n",
    "                users.append(i.text)\n",
    "#     print(users)\n",
    "\n",
    "\n",
    "    # time\n",
    "    tds = soup.find_all('div', {'class':\"card__container\"})\n",
    "    times = []\n",
    "    for td in tds:\n",
    "        if td.find_all('div', {'class':\"card__topic-data\"}) == []:\n",
    "            times.append(td.find('div', {'class':\"card__message-data\"}).find('time').text)\n",
    "        else:\n",
    "            times.append(td.find('div', {'class':\"card__topic-data\"}).find('time').text)\n",
    "#     print(times)\n",
    "\n",
    "\n",
    "    # text\n",
    "    tds = soup.find_all('div', {'class':'card__text'})\n",
    "    tex = []\n",
    "    for td in tds: \n",
    "        p = td.find_all('p', {'class': 'card__comment'})\n",
    "        for i in p:\n",
    "            tex.append(i.text)\n",
    "#     print(tex)\n",
    "    \n",
    "\n",
    "    # quote\n",
    "    tds = soup.find_all('div', {'class':'card__text'})\n",
    "    temp = []\n",
    "    for td in tds: \n",
    "        q = td.find('p', {'class':'quote__text'})\n",
    "        if q != None:\n",
    "            temp.append(q.text)\n",
    "        else:\n",
    "            temp.append('')\n",
    "#     print(temp)\n",
    "\n",
    "    data = ({'user': users,                    \n",
    "             'time': times,      \n",
    "             'text': tex,            \n",
    "             'quote': temp,          \n",
    "             'topic': ['Education'] * len(users)\n",
    "            })          \n",
    "    return data\n",
    "\n",
    "def page_content(all_links, table):\n",
    "    for link in tqdm(all_links):\n",
    "        link = 'https://www.woman.ru' + link\n",
    "        print(link)\n",
    "        data = get_page_data(link)\n",
    "        table.append(data)\n",
    "#     links = get_links(get_html(all_links), all_links)\n",
    "#     for l in links:\n",
    "#         all_links_one_theme = get_all_links_one_theme(get_html(l))\n",
    "#         for t in tqdm(all_links_one_theme):        \n",
    "#             page = get_links(get_html(t), t)\n",
    "#             for p in page:\n",
    "#                 print(p)\n",
    "#                 data = get_page_data(all_links)\n",
    "#                 table.append(data)\n",
    "\n",
    "table = []\n",
    "    \n",
    "url = 'https://www.woman.ru/psycho/education/forum/?sort=new'\n",
    "all_links = get_all_links(get_html(url))\n",
    "page_content(all_links, table)\n",
    "\n",
    "for i in tqdm(range(2, 11)):\n",
    "    url = 'https://www.woman.ru/psycho/education/forum/' + str(i) + '/?sort=new'\n",
    "    all_links = get_all_links(get_html(url))\n",
    "    page_content(all_links, table)"
   ]
  },
  {
   "cell_type": "code",
   "execution_count": null,
   "metadata": {},
   "outputs": [],
   "source": [
    "pd.DataFrame(table).to_csv('Education_Woman_ru.csv', index=False)"
   ]
  },
  {
   "cell_type": "code",
   "execution_count": null,
   "metadata": {},
   "outputs": [],
   "source": [
    "D = pd.read_csv('Education_Woman_ru.csv')\n",
    "D"
   ]
  },
  {
   "cell_type": "code",
   "execution_count": null,
   "metadata": {},
   "outputs": [],
   "source": [
    "count = 0\n",
    "for i in range(len(D)):\n",
    "    count += len(D['user'][i].split())\n",
    "print('Количество записей с одного сайта по одной теме:', count)"
   ]
  },
  {
   "cell_type": "code",
   "execution_count": null,
   "metadata": {},
   "outputs": [],
   "source": []
  }
 ],
 "metadata": {
  "kernelspec": {
   "display_name": "Python 3 (ipykernel)",
   "language": "python",
   "name": "python3"
  },
  "language_info": {
   "codemirror_mode": {
    "name": "ipython",
    "version": 3
   },
   "file_extension": ".py",
   "mimetype": "text/x-python",
   "name": "python",
   "nbconvert_exporter": "python",
   "pygments_lexer": "ipython3",
   "version": "3.8.8"
  }
 },
 "nbformat": 4,
 "nbformat_minor": 2
}
