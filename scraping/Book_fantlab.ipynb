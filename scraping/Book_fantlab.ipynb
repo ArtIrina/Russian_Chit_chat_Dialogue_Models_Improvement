{
 "cells": [
  {
   "cell_type": "markdown",
   "metadata": {},
   "source": [
    "https://fantlab.ru/forum/forum6page1"
   ]
  },
  {
   "cell_type": "code",
   "execution_count": 1,
   "metadata": {},
   "outputs": [],
   "source": [
    "# pip install bs"
   ]
  },
  {
   "cell_type": "code",
   "execution_count": null,
   "metadata": {},
   "outputs": [],
   "source": [
    "import pandas as pd\n",
    "from bs4 import BeautifulSoup\n",
    "import requests\n",
    "\n",
    "df = pd.DataFrame(columns=['text'])\n",
    "df"
   ]
  },
  {
   "cell_type": "code",
   "execution_count": 105,
   "metadata": {},
   "outputs": [],
   "source": [
    "url = 'https://fantlab.ru/forum/forum6page1/topic2442page1'"
   ]
  },
  {
   "cell_type": "code",
   "execution_count": 106,
   "metadata": {},
   "outputs": [
    {
     "name": "stdout",
     "output_type": "stream",
     "text": [
      "<Response [200]>\n"
     ]
    }
   ],
   "source": [
    "response = requests.get(url)\n",
    "print(response)"
   ]
  },
  {
   "cell_type": "code",
   "execution_count": 107,
   "metadata": {},
   "outputs": [],
   "source": [
    "html = response.text"
   ]
  },
  {
   "cell_type": "code",
   "execution_count": 108,
   "metadata": {},
   "outputs": [],
   "source": [
    "# bs = BeautifulSoup(html,\"lxml\")\n",
    "# print(bs)"
   ]
  },
  {
   "cell_type": "code",
   "execution_count": 109,
   "metadata": {},
   "outputs": [],
   "source": [
    "import re"
   ]
  },
  {
   "cell_type": "code",
   "execution_count": 192,
   "metadata": {},
   "outputs": [
    {
     "name": "stdout",
     "output_type": "stream",
     "text": [
      "\n",
      "\n",
      "\n",
      "\n",
      "\"Звездные трагедии\" Федора Раззакова\n",
      "\n",
      "\n",
      "\n",
      "имеются фольклорно-фантастические мотивы\n",
      "\n",
      "Но вообще — хотелось бы\n",
      "Сегодня утром стала  счастливым  обладателем 2-х книг (польская поэзия):- Болеслав Лесьмян \"Безлюдная баллада, или Слова для песни без слов\"- Константы Ильдефонс Галчинский \"Фарландия, или Путешествие в Темноград\"\n",
      "\n",
      "\n",
      "Часовщик\" и \"Кукольник\" Кортеса\n",
      "Как прав был Tyrgon, книга должна быть недоступной\n",
      "Как говорит один мой знакомый : \"Это великий талант — суметь НЕ КУПИТЬ !\"\n",
      "\n",
      "\n",
      "\n"
     ]
    }
   ],
   "source": [
    "soup = BeautifulSoup(html, features=\"html.parser\")\n",
    "tds = soup.find_all('font', {'class':'v9b'})\n",
    "# tds = soup.find_all('blockquote', {'class':'quote'})\n",
    "users = []\n",
    "for td in tds:\n",
    "    if td.blockquote != None:\n",
    "        print(td.blockquote.div.text)\n",
    "    else:\n",
    "        print()\n",
    "#     print(td)\n",
    "#     for t in td.find_all('span', {'style':'float:left;color:gray'}):\n",
    "#     print(td.div.text)\n",
    "#     for q in td.find_all('span'):\n",
    "#         if q.b != None:\n",
    "#             users.append(q.b.text)\n",
    "# print(users)"
   ]
  },
  {
   "cell_type": "code",
   "execution_count": 14,
   "metadata": {},
   "outputs": [
    {
     "name": "stdout",
     "output_type": "stream",
     "text": [
      "https://fantlab.ru/forum/forum6page1/topic5171page1\n",
      "https://fantlab.ru/forum/forum6page1/topic5171page2\n",
      "https://fantlab.ru/forum/forum6page1/topic5171page3\n",
      "https://fantlab.ru/forum/forum6page1/topic5171page4\n",
      "https://fantlab.ru/forum/forum6page1/topic5171page5\n",
      "https://fantlab.ru/forum/forum6page1/topic5171page6\n",
      "https://fantlab.ru/forum/forum6page1/topic5171page7\n",
      "https://fantlab.ru/forum/forum6page1/topic5171page8\n",
      "https://fantlab.ru/forum/forum6page1/topic5171page9\n",
      "https://fantlab.ru/forum/forum6page1/topic5171page10\n",
      "https://fantlab.ru/forum/forum6page1/topic5171page11\n",
      "https://fantlab.ru/forum/forum6page1/topic5171page12\n",
      "https://fantlab.ru/forum/forum6page1/topic5171page13\n",
      "https://fantlab.ru/forum/forum6page1/topic5171page14\n",
      "https://fantlab.ru/forum/forum6page1/topic5171page15\n",
      "https://fantlab.ru/forum/forum6page1/topic5171page16\n",
      "https://fantlab.ru/forum/forum6page1/topic5171page17\n",
      "https://fantlab.ru/forum/forum6page1/topic5171page18\n",
      "https://fantlab.ru/forum/forum6page1/topic5171page19\n",
      "https://fantlab.ru/forum/forum6page1/topic5171page20\n",
      "https://fantlab.ru/forum/forum6page1/topic5171page21\n",
      "https://fantlab.ru/forum/forum6page1/topic5171page22\n",
      "https://fantlab.ru/forum/forum6page1/topic5171page23\n",
      "https://fantlab.ru/forum/forum6page1/topic5171page24\n",
      "https://fantlab.ru/forum/forum6page1/topic5171page25\n",
      "https://fantlab.ru/forum/forum6page1/topic5171page26\n"
     ]
    },
    {
     "ename": "HTTPError",
     "evalue": "HTTP Error 429: Too Many Requests",
     "output_type": "error",
     "traceback": [
      "\u001b[0;31m---------------------------------------------------------------------------\u001b[0m",
      "\u001b[0;31mHTTPError\u001b[0m                                 Traceback (most recent call last)",
      "\u001b[0;32m/tmp/ipykernel_48674/4100840865.py\u001b[0m in \u001b[0;36m<module>\u001b[0;34m\u001b[0m\n\u001b[1;32m     92\u001b[0m     \u001b[0murl\u001b[0m \u001b[0;34m=\u001b[0m \u001b[0mbase\u001b[0m \u001b[0;34m+\u001b[0m \u001b[0mstr\u001b[0m\u001b[0;34m(\u001b[0m\u001b[0mi\u001b[0m\u001b[0;34m)\u001b[0m\u001b[0;34m\u001b[0m\u001b[0;34m\u001b[0m\u001b[0m\n\u001b[1;32m     93\u001b[0m     \u001b[0mall_links\u001b[0m \u001b[0;34m=\u001b[0m \u001b[0mget_all_links\u001b[0m\u001b[0;34m(\u001b[0m\u001b[0mget_html\u001b[0m\u001b[0;34m(\u001b[0m\u001b[0murl\u001b[0m\u001b[0;34m)\u001b[0m\u001b[0;34m)\u001b[0m\u001b[0;34m\u001b[0m\u001b[0;34m\u001b[0m\u001b[0m\n\u001b[0;32m---> 94\u001b[0;31m     \u001b[0mpage_content\u001b[0m\u001b[0;34m(\u001b[0m\u001b[0mall_links\u001b[0m\u001b[0;34m,\u001b[0m \u001b[0mtable\u001b[0m\u001b[0;34m)\u001b[0m\u001b[0;34m\u001b[0m\u001b[0;34m\u001b[0m\u001b[0m\n\u001b[0m\u001b[1;32m     95\u001b[0m     \u001b[0mprint\u001b[0m\u001b[0;34m(\u001b[0m\u001b[0mi\u001b[0m\u001b[0;34m)\u001b[0m\u001b[0;34m\u001b[0m\u001b[0;34m\u001b[0m\u001b[0m\n",
      "\u001b[0;32m/tmp/ipykernel_48674/4100840865.py\u001b[0m in \u001b[0;36mpage_content\u001b[0;34m(all_links, table)\u001b[0m\n\u001b[1;32m     83\u001b[0m             \u001b[0murl\u001b[0m \u001b[0;34m=\u001b[0m \u001b[0mbase\u001b[0m \u001b[0;34m+\u001b[0m \u001b[0mlink\u001b[0m\u001b[0;34m[\u001b[0m\u001b[0;34m:\u001b[0m\u001b[0;34m-\u001b[0m\u001b[0;36m1\u001b[0m\u001b[0;34m]\u001b[0m \u001b[0;34m+\u001b[0m \u001b[0mstr\u001b[0m\u001b[0;34m(\u001b[0m\u001b[0ml\u001b[0m\u001b[0;34m)\u001b[0m\u001b[0;34m\u001b[0m\u001b[0;34m\u001b[0m\u001b[0m\n\u001b[1;32m     84\u001b[0m             \u001b[0mprint\u001b[0m\u001b[0;34m(\u001b[0m\u001b[0murl\u001b[0m\u001b[0;34m)\u001b[0m\u001b[0;34m\u001b[0m\u001b[0;34m\u001b[0m\u001b[0m\n\u001b[0;32m---> 85\u001b[0;31m             \u001b[0mdata\u001b[0m \u001b[0;34m=\u001b[0m \u001b[0mget_page_data\u001b[0m\u001b[0;34m(\u001b[0m\u001b[0murl\u001b[0m\u001b[0;34m)\u001b[0m\u001b[0;34m\u001b[0m\u001b[0;34m\u001b[0m\u001b[0m\n\u001b[0m\u001b[1;32m     86\u001b[0m             \u001b[0mtable\u001b[0m\u001b[0;34m.\u001b[0m\u001b[0mappend\u001b[0m\u001b[0;34m(\u001b[0m\u001b[0mdata\u001b[0m\u001b[0;34m)\u001b[0m\u001b[0;34m\u001b[0m\u001b[0;34m\u001b[0m\u001b[0m\n\u001b[1;32m     87\u001b[0m \u001b[0;34m\u001b[0m\u001b[0m\n",
      "\u001b[0;32m/tmp/ipykernel_48674/4100840865.py\u001b[0m in \u001b[0;36mget_page_data\u001b[0;34m(html)\u001b[0m\n\u001b[1;32m     29\u001b[0m \u001b[0;34m\u001b[0m\u001b[0m\n\u001b[1;32m     30\u001b[0m \u001b[0;32mdef\u001b[0m \u001b[0mget_page_data\u001b[0m\u001b[0;34m(\u001b[0m\u001b[0mhtml\u001b[0m\u001b[0;34m)\u001b[0m\u001b[0;34m:\u001b[0m\u001b[0;34m\u001b[0m\u001b[0;34m\u001b[0m\u001b[0m\n\u001b[0;32m---> 31\u001b[0;31m     \u001b[0msoup\u001b[0m \u001b[0;34m=\u001b[0m \u001b[0mBeautifulSoup\u001b[0m\u001b[0;34m(\u001b[0m\u001b[0murlopen\u001b[0m\u001b[0;34m(\u001b[0m\u001b[0mhtml\u001b[0m\u001b[0;34m)\u001b[0m\u001b[0;34m,\u001b[0m \u001b[0mfeatures\u001b[0m\u001b[0;34m=\u001b[0m\u001b[0;34m\"html.parser\"\u001b[0m\u001b[0;34m)\u001b[0m\u001b[0;34m\u001b[0m\u001b[0;34m\u001b[0m\u001b[0m\n\u001b[0m\u001b[1;32m     32\u001b[0m \u001b[0;34m\u001b[0m\u001b[0m\n\u001b[1;32m     33\u001b[0m     \u001b[0;31m# user\u001b[0m\u001b[0;34m\u001b[0m\u001b[0;34m\u001b[0m\u001b[0;34m\u001b[0m\u001b[0m\n",
      "\u001b[0;32m~/anaconda3/lib/python3.8/urllib/request.py\u001b[0m in \u001b[0;36murlopen\u001b[0;34m(url, data, timeout, cafile, capath, cadefault, context)\u001b[0m\n\u001b[1;32m    220\u001b[0m     \u001b[0;32melse\u001b[0m\u001b[0;34m:\u001b[0m\u001b[0;34m\u001b[0m\u001b[0;34m\u001b[0m\u001b[0m\n\u001b[1;32m    221\u001b[0m         \u001b[0mopener\u001b[0m \u001b[0;34m=\u001b[0m \u001b[0m_opener\u001b[0m\u001b[0;34m\u001b[0m\u001b[0;34m\u001b[0m\u001b[0m\n\u001b[0;32m--> 222\u001b[0;31m     \u001b[0;32mreturn\u001b[0m \u001b[0mopener\u001b[0m\u001b[0;34m.\u001b[0m\u001b[0mopen\u001b[0m\u001b[0;34m(\u001b[0m\u001b[0murl\u001b[0m\u001b[0;34m,\u001b[0m \u001b[0mdata\u001b[0m\u001b[0;34m,\u001b[0m \u001b[0mtimeout\u001b[0m\u001b[0;34m)\u001b[0m\u001b[0;34m\u001b[0m\u001b[0;34m\u001b[0m\u001b[0m\n\u001b[0m\u001b[1;32m    223\u001b[0m \u001b[0;34m\u001b[0m\u001b[0m\n\u001b[1;32m    224\u001b[0m \u001b[0;32mdef\u001b[0m \u001b[0minstall_opener\u001b[0m\u001b[0;34m(\u001b[0m\u001b[0mopener\u001b[0m\u001b[0;34m)\u001b[0m\u001b[0;34m:\u001b[0m\u001b[0;34m\u001b[0m\u001b[0;34m\u001b[0m\u001b[0m\n",
      "\u001b[0;32m~/anaconda3/lib/python3.8/urllib/request.py\u001b[0m in \u001b[0;36mopen\u001b[0;34m(self, fullurl, data, timeout)\u001b[0m\n\u001b[1;32m    529\u001b[0m         \u001b[0;32mfor\u001b[0m \u001b[0mprocessor\u001b[0m \u001b[0;32min\u001b[0m \u001b[0mself\u001b[0m\u001b[0;34m.\u001b[0m\u001b[0mprocess_response\u001b[0m\u001b[0;34m.\u001b[0m\u001b[0mget\u001b[0m\u001b[0;34m(\u001b[0m\u001b[0mprotocol\u001b[0m\u001b[0;34m,\u001b[0m \u001b[0;34m[\u001b[0m\u001b[0;34m]\u001b[0m\u001b[0;34m)\u001b[0m\u001b[0;34m:\u001b[0m\u001b[0;34m\u001b[0m\u001b[0;34m\u001b[0m\u001b[0m\n\u001b[1;32m    530\u001b[0m             \u001b[0mmeth\u001b[0m \u001b[0;34m=\u001b[0m \u001b[0mgetattr\u001b[0m\u001b[0;34m(\u001b[0m\u001b[0mprocessor\u001b[0m\u001b[0;34m,\u001b[0m \u001b[0mmeth_name\u001b[0m\u001b[0;34m)\u001b[0m\u001b[0;34m\u001b[0m\u001b[0;34m\u001b[0m\u001b[0m\n\u001b[0;32m--> 531\u001b[0;31m             \u001b[0mresponse\u001b[0m \u001b[0;34m=\u001b[0m \u001b[0mmeth\u001b[0m\u001b[0;34m(\u001b[0m\u001b[0mreq\u001b[0m\u001b[0;34m,\u001b[0m \u001b[0mresponse\u001b[0m\u001b[0;34m)\u001b[0m\u001b[0;34m\u001b[0m\u001b[0;34m\u001b[0m\u001b[0m\n\u001b[0m\u001b[1;32m    532\u001b[0m \u001b[0;34m\u001b[0m\u001b[0m\n\u001b[1;32m    533\u001b[0m         \u001b[0;32mreturn\u001b[0m \u001b[0mresponse\u001b[0m\u001b[0;34m\u001b[0m\u001b[0;34m\u001b[0m\u001b[0m\n",
      "\u001b[0;32m~/anaconda3/lib/python3.8/urllib/request.py\u001b[0m in \u001b[0;36mhttp_response\u001b[0;34m(self, request, response)\u001b[0m\n\u001b[1;32m    638\u001b[0m         \u001b[0;31m# request was successfully received, understood, and accepted.\u001b[0m\u001b[0;34m\u001b[0m\u001b[0;34m\u001b[0m\u001b[0;34m\u001b[0m\u001b[0m\n\u001b[1;32m    639\u001b[0m         \u001b[0;32mif\u001b[0m \u001b[0;32mnot\u001b[0m \u001b[0;34m(\u001b[0m\u001b[0;36m200\u001b[0m \u001b[0;34m<=\u001b[0m \u001b[0mcode\u001b[0m \u001b[0;34m<\u001b[0m \u001b[0;36m300\u001b[0m\u001b[0;34m)\u001b[0m\u001b[0;34m:\u001b[0m\u001b[0;34m\u001b[0m\u001b[0;34m\u001b[0m\u001b[0m\n\u001b[0;32m--> 640\u001b[0;31m             response = self.parent.error(\n\u001b[0m\u001b[1;32m    641\u001b[0m                 'http', request, response, code, msg, hdrs)\n\u001b[1;32m    642\u001b[0m \u001b[0;34m\u001b[0m\u001b[0m\n",
      "\u001b[0;32m~/anaconda3/lib/python3.8/urllib/request.py\u001b[0m in \u001b[0;36merror\u001b[0;34m(self, proto, *args)\u001b[0m\n\u001b[1;32m    567\u001b[0m         \u001b[0;32mif\u001b[0m \u001b[0mhttp_err\u001b[0m\u001b[0;34m:\u001b[0m\u001b[0;34m\u001b[0m\u001b[0;34m\u001b[0m\u001b[0m\n\u001b[1;32m    568\u001b[0m             \u001b[0margs\u001b[0m \u001b[0;34m=\u001b[0m \u001b[0;34m(\u001b[0m\u001b[0mdict\u001b[0m\u001b[0;34m,\u001b[0m \u001b[0;34m'default'\u001b[0m\u001b[0;34m,\u001b[0m \u001b[0;34m'http_error_default'\u001b[0m\u001b[0;34m)\u001b[0m \u001b[0;34m+\u001b[0m \u001b[0morig_args\u001b[0m\u001b[0;34m\u001b[0m\u001b[0;34m\u001b[0m\u001b[0m\n\u001b[0;32m--> 569\u001b[0;31m             \u001b[0;32mreturn\u001b[0m \u001b[0mself\u001b[0m\u001b[0;34m.\u001b[0m\u001b[0m_call_chain\u001b[0m\u001b[0;34m(\u001b[0m\u001b[0;34m*\u001b[0m\u001b[0margs\u001b[0m\u001b[0;34m)\u001b[0m\u001b[0;34m\u001b[0m\u001b[0;34m\u001b[0m\u001b[0m\n\u001b[0m\u001b[1;32m    570\u001b[0m \u001b[0;34m\u001b[0m\u001b[0m\n\u001b[1;32m    571\u001b[0m \u001b[0;31m# XXX probably also want an abstract factory that knows when it makes\u001b[0m\u001b[0;34m\u001b[0m\u001b[0;34m\u001b[0m\u001b[0;34m\u001b[0m\u001b[0m\n",
      "\u001b[0;32m~/anaconda3/lib/python3.8/urllib/request.py\u001b[0m in \u001b[0;36m_call_chain\u001b[0;34m(self, chain, kind, meth_name, *args)\u001b[0m\n\u001b[1;32m    500\u001b[0m         \u001b[0;32mfor\u001b[0m \u001b[0mhandler\u001b[0m \u001b[0;32min\u001b[0m \u001b[0mhandlers\u001b[0m\u001b[0;34m:\u001b[0m\u001b[0;34m\u001b[0m\u001b[0;34m\u001b[0m\u001b[0m\n\u001b[1;32m    501\u001b[0m             \u001b[0mfunc\u001b[0m \u001b[0;34m=\u001b[0m \u001b[0mgetattr\u001b[0m\u001b[0;34m(\u001b[0m\u001b[0mhandler\u001b[0m\u001b[0;34m,\u001b[0m \u001b[0mmeth_name\u001b[0m\u001b[0;34m)\u001b[0m\u001b[0;34m\u001b[0m\u001b[0;34m\u001b[0m\u001b[0m\n\u001b[0;32m--> 502\u001b[0;31m             \u001b[0mresult\u001b[0m \u001b[0;34m=\u001b[0m \u001b[0mfunc\u001b[0m\u001b[0;34m(\u001b[0m\u001b[0;34m*\u001b[0m\u001b[0margs\u001b[0m\u001b[0;34m)\u001b[0m\u001b[0;34m\u001b[0m\u001b[0;34m\u001b[0m\u001b[0m\n\u001b[0m\u001b[1;32m    503\u001b[0m             \u001b[0;32mif\u001b[0m \u001b[0mresult\u001b[0m \u001b[0;32mis\u001b[0m \u001b[0;32mnot\u001b[0m \u001b[0;32mNone\u001b[0m\u001b[0;34m:\u001b[0m\u001b[0;34m\u001b[0m\u001b[0;34m\u001b[0m\u001b[0m\n\u001b[1;32m    504\u001b[0m                 \u001b[0;32mreturn\u001b[0m \u001b[0mresult\u001b[0m\u001b[0;34m\u001b[0m\u001b[0;34m\u001b[0m\u001b[0m\n",
      "\u001b[0;32m~/anaconda3/lib/python3.8/urllib/request.py\u001b[0m in \u001b[0;36mhttp_error_default\u001b[0;34m(self, req, fp, code, msg, hdrs)\u001b[0m\n\u001b[1;32m    647\u001b[0m \u001b[0;32mclass\u001b[0m \u001b[0mHTTPDefaultErrorHandler\u001b[0m\u001b[0;34m(\u001b[0m\u001b[0mBaseHandler\u001b[0m\u001b[0;34m)\u001b[0m\u001b[0;34m:\u001b[0m\u001b[0;34m\u001b[0m\u001b[0;34m\u001b[0m\u001b[0m\n\u001b[1;32m    648\u001b[0m     \u001b[0;32mdef\u001b[0m \u001b[0mhttp_error_default\u001b[0m\u001b[0;34m(\u001b[0m\u001b[0mself\u001b[0m\u001b[0;34m,\u001b[0m \u001b[0mreq\u001b[0m\u001b[0;34m,\u001b[0m \u001b[0mfp\u001b[0m\u001b[0;34m,\u001b[0m \u001b[0mcode\u001b[0m\u001b[0;34m,\u001b[0m \u001b[0mmsg\u001b[0m\u001b[0;34m,\u001b[0m \u001b[0mhdrs\u001b[0m\u001b[0;34m)\u001b[0m\u001b[0;34m:\u001b[0m\u001b[0;34m\u001b[0m\u001b[0;34m\u001b[0m\u001b[0m\n\u001b[0;32m--> 649\u001b[0;31m         \u001b[0;32mraise\u001b[0m \u001b[0mHTTPError\u001b[0m\u001b[0;34m(\u001b[0m\u001b[0mreq\u001b[0m\u001b[0;34m.\u001b[0m\u001b[0mfull_url\u001b[0m\u001b[0;34m,\u001b[0m \u001b[0mcode\u001b[0m\u001b[0;34m,\u001b[0m \u001b[0mmsg\u001b[0m\u001b[0;34m,\u001b[0m \u001b[0mhdrs\u001b[0m\u001b[0;34m,\u001b[0m \u001b[0mfp\u001b[0m\u001b[0;34m)\u001b[0m\u001b[0;34m\u001b[0m\u001b[0;34m\u001b[0m\u001b[0m\n\u001b[0m\u001b[1;32m    650\u001b[0m \u001b[0;34m\u001b[0m\u001b[0m\n\u001b[1;32m    651\u001b[0m \u001b[0;32mclass\u001b[0m \u001b[0mHTTPRedirectHandler\u001b[0m\u001b[0;34m(\u001b[0m\u001b[0mBaseHandler\u001b[0m\u001b[0;34m)\u001b[0m\u001b[0;34m:\u001b[0m\u001b[0;34m\u001b[0m\u001b[0;34m\u001b[0m\u001b[0m\n",
      "\u001b[0;31mHTTPError\u001b[0m: HTTP Error 429: Too Many Requests"
     ]
    }
   ],
   "source": [
    "from urllib.request import Request, urlopen\n",
    "from bs4 import BeautifulSoup\n",
    "import requests\n",
    "import json\n",
    "\n",
    "def get_html(url):\n",
    "    response = requests.get(url)\n",
    "    return response.text\n",
    "\n",
    "def get_all_links(html):\n",
    "    soup = BeautifulSoup(html, features=\"html.parser\")\n",
    "    links = []\n",
    "    links_pages = []\n",
    "    tds = soup.find_all('tr', 'bgcolor'=='#F0F5F5')\n",
    "    for td in tds:\n",
    "        p = td.find_all('p')\n",
    "        for q in p:\n",
    "            links.append(q.a['href']) # https://fantlab.ru/ + q.a['href']\n",
    "            break\n",
    "    return links\n",
    "\n",
    "def get_all_links_on_page(html, link):\n",
    "    soup = BeautifulSoup(html, features=\"html.parser\")\n",
    "    tds = soup.find_all('tr')\n",
    "    for td in tds:\n",
    "        i = td.find('td', {'class':'td-block'})\n",
    "        if i != None:\n",
    "            return(i.find_all('a')[-1].text)\n",
    "\n",
    "def get_page_data(html):\n",
    "    soup = BeautifulSoup(urlopen(html), features=\"html.parser\")\n",
    "\n",
    "    # user\n",
    "    tds = soup.find_all('td', 'valign'==\"top\")\n",
    "    users = []\n",
    "    for td in tds:\n",
    "    #     print(td.find_all('span'))\n",
    "        for q in td.find_all('span'):\n",
    "            if q.b != None:\n",
    "                users.append([q.b.text])\n",
    "#     print(users)\n",
    "\n",
    "    # time\n",
    "    tds = soup.find_all('td', {'style':\"border:1px solid #D8E1E6;border-top:4px solid #D8E1E6;\"})\n",
    "    times = []\n",
    "    for td in tds:\n",
    "        for t in td.find_all('span', {'style':'float:left;color:gray'}):\n",
    "            times.append([t.text])\n",
    "#     print(times)\n",
    "\n",
    "\n",
    "    # text (надо вычесть цитату)\n",
    "    tds = soup.find_all('font', {'class':'v9b'})\n",
    "    tex = []\n",
    "    for td in tds:  \n",
    "        tex.append([td.text])\n",
    "#     print(tex)\n",
    "    \n",
    "\n",
    "    # quote\n",
    "    tds = soup.find_all('font', {'class':'v9b'})\n",
    "    temp = []\n",
    "    for td in tds:\n",
    "        if td.blockquote != None:\n",
    "            temp.append([td.blockquote.div.text])\n",
    "        else:\n",
    "            temp.append([''])\n",
    "#     print(temp)\n",
    "\n",
    "    data = ({'user': users,                    \n",
    "             'time': times,      \n",
    "             'text': tex,            \n",
    "             'quote': temp,          \n",
    "             'topic': ['Books&Literature'] * len(users)})          \n",
    "    return data\n",
    "\n",
    "def page_content(all_links, table):\n",
    "    for link in (all_links):\n",
    "        base = 'https://fantlab.ru'\n",
    "        url = base + link\n",
    "        all_links_on_page = get_all_links_on_page(get_html(url), link)\n",
    "        for l in range(1, int(all_links_on_page)+1):\n",
    "            url = base + link[:-1] + str(l)\n",
    "            print(url)\n",
    "            data = get_page_data(url)\n",
    "            table.append(data)\n",
    "\n",
    "table = []\n",
    "    \n",
    "for i in range(1, 23):\n",
    "    base = 'https://fantlab.ru/forum/forum6page'\n",
    "    url = base + str(i)\n",
    "    all_links = get_all_links(get_html(url))\n",
    "    page_content(all_links, table)\n",
    "    print(i)"
   ]
  },
  {
   "cell_type": "code",
   "execution_count": 194,
   "metadata": {},
   "outputs": [],
   "source": [
    "pd.DataFrame(table).to_csv('books2.csv', index=False)"
   ]
  },
  {
   "cell_type": "code",
   "execution_count": 9,
   "metadata": {},
   "outputs": [
    {
     "data": {
      "text/html": [
       "<div>\n",
       "<style scoped>\n",
       "    .dataframe tbody tr th:only-of-type {\n",
       "        vertical-align: middle;\n",
       "    }\n",
       "\n",
       "    .dataframe tbody tr th {\n",
       "        vertical-align: top;\n",
       "    }\n",
       "\n",
       "    .dataframe thead th {\n",
       "        text-align: right;\n",
       "    }\n",
       "</style>\n",
       "<table border=\"1\" class=\"dataframe\">\n",
       "  <thead>\n",
       "    <tr style=\"text-align: right;\">\n",
       "      <th></th>\n",
       "      <th>user</th>\n",
       "      <th>time</th>\n",
       "      <th>text</th>\n",
       "      <th>quote</th>\n",
       "      <th>topic</th>\n",
       "    </tr>\n",
       "  </thead>\n",
       "  <tbody>\n",
       "    <tr>\n",
       "      <th>0</th>\n",
       "      <td>['DIMON', 'Psihea', 'tevas', 'DIMON', 'DIMON',...</td>\n",
       "      <td>[' 14 августа 2005 г. 18:46 \\xa0 [нажмите здес...</td>\n",
       "      <td>['После \"Кода да Винчи\" очень захотелось почит...</td>\n",
       "      <td>['', ' Генри Миллер \"Сексус\"', '', 'Сразу Патр...</td>\n",
       "      <td>['Books&amp;Literature', 'Books&amp;Literature', 'Book...</td>\n",
       "    </tr>\n",
       "    <tr>\n",
       "      <th>1</th>\n",
       "      <td>['dummy', 'kon28', 'ФАНТОМ', 'kon28', 'ZiZu', ...</td>\n",
       "      <td>[' 6 февраля 2007 г. 13:19 \\xa0 [нажмите здесь...</td>\n",
       "      <td>['DIMON, мире такая уйма замечательных книг! Х...</td>\n",
       "      <td>['', '', '', '', '', '', '', '', '', '', '', '...</td>\n",
       "      <td>['Books&amp;Literature', 'Books&amp;Literature', 'Book...</td>\n",
       "    </tr>\n",
       "    <tr>\n",
       "      <th>2</th>\n",
       "      <td>['Кел-кор', 'ФАНТОМ', 'Кел-кор', 'Bladeness', ...</td>\n",
       "      <td>[' 24 апреля 2007 г. 13:26 \\xa0 [нажмите здесь...</td>\n",
       "      <td>['цитата ФАНТОМСсылочку на изд-во кину на этой...</td>\n",
       "      <td>['Ссылочку на изд-во кину на этой неделе', '',...</td>\n",
       "      <td>['Books&amp;Literature', 'Books&amp;Literature', 'Book...</td>\n",
       "    </tr>\n",
       "    <tr>\n",
       "      <th>3</th>\n",
       "      <td>['baroni', 'duke', 'Shvoloch', 'baroni', 'duke...</td>\n",
       "      <td>[' 25 декабря 2007 г. 00:55 \\xa0 [нажмите здес...</td>\n",
       "      <td>['duke Набросаю примерно:В.А. Сретенский \"От/ч...</td>\n",
       "      <td>['', 'Ну разве что Улицкая?', '', '', '', '', ...</td>\n",
       "      <td>['Books&amp;Literature', 'Books&amp;Literature', 'Book...</td>\n",
       "    </tr>\n",
       "    <tr>\n",
       "      <th>4</th>\n",
       "      <td>['WiNchiK', 'Pupsjara', 'baroni', 'Claviceps P...</td>\n",
       "      <td>[' 19 января 2008 г. 11:58 \\xa0 [нажмите здесь...</td>\n",
       "      <td>['ALLEGORY, Claviceps P. -спасибо, что поделил...</td>\n",
       "      <td>['', '', 'о творчестве Лео Перуца?', '', 'Что ...</td>\n",
       "      <td>['Books&amp;Literature', 'Books&amp;Literature', 'Book...</td>\n",
       "    </tr>\n",
       "    <tr>\n",
       "      <th>...</th>\n",
       "      <td>...</td>\n",
       "      <td>...</td>\n",
       "      <td>...</td>\n",
       "      <td>...</td>\n",
       "      <td>...</td>\n",
       "    </tr>\n",
       "    <tr>\n",
       "      <th>1896</th>\n",
       "      <td>['ArK', 'G.I.C.', 'k2007', 'k2007', 'blues', '...</td>\n",
       "      <td>[' 26 ноября 2021 г. 00:13 \\xa0 [нажмите здесь...</td>\n",
       "      <td>['сообщение модератора Так как участились случ...</td>\n",
       "      <td>['Так как участились случаи открытия тем с цел...</td>\n",
       "      <td>['Books&amp;Literature', 'Books&amp;Literature', 'Book...</td>\n",
       "    </tr>\n",
       "    <tr>\n",
       "      <th>1897</th>\n",
       "      <td>['ArK', 'k2007', 'graffomen', 'Папаша Паша', '...</td>\n",
       "      <td>[' 31 марта 2022 г. 16:26 \\xa0 [нажмите здесь ...</td>\n",
       "      <td>['сообщение модератора Так как участились случ...</td>\n",
       "      <td>['Так как участились случаи открытия тем с цел...</td>\n",
       "      <td>['Books&amp;Literature', 'Books&amp;Literature', 'Book...</td>\n",
       "    </tr>\n",
       "    <tr>\n",
       "      <th>1898</th>\n",
       "      <td>['ArK', 'VIAcheslav', 'C.Хоттабыч', 'Zangezi',...</td>\n",
       "      <td>[' 6 мая 2022 г. 17:11 \\xa0 [нажмите здесь что...</td>\n",
       "      <td>['сообщение модератора Так как участились случ...</td>\n",
       "      <td>['Так как участились случаи открытия тем с цел...</td>\n",
       "      <td>['Books&amp;Literature', 'Books&amp;Literature', 'Book...</td>\n",
       "    </tr>\n",
       "    <tr>\n",
       "      <th>1899</th>\n",
       "      <td>['ArK', 'glukhovskaya2011', 'Dasheri', 'jawors...</td>\n",
       "      <td>[' 25 августа 2022 г. 15:55 \\xa0 [нажмите здес...</td>\n",
       "      <td>['сообщение модератора Так как участились случ...</td>\n",
       "      <td>['Так как участились случаи открытия тем с цел...</td>\n",
       "      <td>['Books&amp;Literature', 'Books&amp;Literature', 'Book...</td>\n",
       "    </tr>\n",
       "    <tr>\n",
       "      <th>1900</th>\n",
       "      <td>['ArK', 'DemonaZZ', 'Славич', 'DemonaZZ', 'pun...</td>\n",
       "      <td>[' 6 января 10:01 \\xa0 [нажмите здесь чтобы ув...</td>\n",
       "      <td>['сообщение модератора Так как участились случ...</td>\n",
       "      <td>['Так как участились случаи открытия тем с цел...</td>\n",
       "      <td>['Books&amp;Literature', 'Books&amp;Literature', 'Book...</td>\n",
       "    </tr>\n",
       "  </tbody>\n",
       "</table>\n",
       "<p>1901 rows × 5 columns</p>\n",
       "</div>"
      ],
      "text/plain": [
       "                                                   user  \\\n",
       "0     ['DIMON', 'Psihea', 'tevas', 'DIMON', 'DIMON',...   \n",
       "1     ['dummy', 'kon28', 'ФАНТОМ', 'kon28', 'ZiZu', ...   \n",
       "2     ['Кел-кор', 'ФАНТОМ', 'Кел-кор', 'Bladeness', ...   \n",
       "3     ['baroni', 'duke', 'Shvoloch', 'baroni', 'duke...   \n",
       "4     ['WiNchiK', 'Pupsjara', 'baroni', 'Claviceps P...   \n",
       "...                                                 ...   \n",
       "1896  ['ArK', 'G.I.C.', 'k2007', 'k2007', 'blues', '...   \n",
       "1897  ['ArK', 'k2007', 'graffomen', 'Папаша Паша', '...   \n",
       "1898  ['ArK', 'VIAcheslav', 'C.Хоттабыч', 'Zangezi',...   \n",
       "1899  ['ArK', 'glukhovskaya2011', 'Dasheri', 'jawors...   \n",
       "1900  ['ArK', 'DemonaZZ', 'Славич', 'DemonaZZ', 'pun...   \n",
       "\n",
       "                                                   time  \\\n",
       "0     [' 14 августа 2005 г. 18:46 \\xa0 [нажмите здес...   \n",
       "1     [' 6 февраля 2007 г. 13:19 \\xa0 [нажмите здесь...   \n",
       "2     [' 24 апреля 2007 г. 13:26 \\xa0 [нажмите здесь...   \n",
       "3     [' 25 декабря 2007 г. 00:55 \\xa0 [нажмите здес...   \n",
       "4     [' 19 января 2008 г. 11:58 \\xa0 [нажмите здесь...   \n",
       "...                                                 ...   \n",
       "1896  [' 26 ноября 2021 г. 00:13 \\xa0 [нажмите здесь...   \n",
       "1897  [' 31 марта 2022 г. 16:26 \\xa0 [нажмите здесь ...   \n",
       "1898  [' 6 мая 2022 г. 17:11 \\xa0 [нажмите здесь что...   \n",
       "1899  [' 25 августа 2022 г. 15:55 \\xa0 [нажмите здес...   \n",
       "1900  [' 6 января 10:01 \\xa0 [нажмите здесь чтобы ув...   \n",
       "\n",
       "                                                   text  \\\n",
       "0     ['После \"Кода да Винчи\" очень захотелось почит...   \n",
       "1     ['DIMON, мире такая уйма замечательных книг! Х...   \n",
       "2     ['цитата ФАНТОМСсылочку на изд-во кину на этой...   \n",
       "3     ['duke Набросаю примерно:В.А. Сретенский \"От/ч...   \n",
       "4     ['ALLEGORY, Claviceps P. -спасибо, что поделил...   \n",
       "...                                                 ...   \n",
       "1896  ['сообщение модератора Так как участились случ...   \n",
       "1897  ['сообщение модератора Так как участились случ...   \n",
       "1898  ['сообщение модератора Так как участились случ...   \n",
       "1899  ['сообщение модератора Так как участились случ...   \n",
       "1900  ['сообщение модератора Так как участились случ...   \n",
       "\n",
       "                                                  quote  \\\n",
       "0     ['', ' Генри Миллер \"Сексус\"', '', 'Сразу Патр...   \n",
       "1     ['', '', '', '', '', '', '', '', '', '', '', '...   \n",
       "2     ['Ссылочку на изд-во кину на этой неделе', '',...   \n",
       "3     ['', 'Ну разве что Улицкая?', '', '', '', '', ...   \n",
       "4     ['', '', 'о творчестве Лео Перуца?', '', 'Что ...   \n",
       "...                                                 ...   \n",
       "1896  ['Так как участились случаи открытия тем с цел...   \n",
       "1897  ['Так как участились случаи открытия тем с цел...   \n",
       "1898  ['Так как участились случаи открытия тем с цел...   \n",
       "1899  ['Так как участились случаи открытия тем с цел...   \n",
       "1900  ['Так как участились случаи открытия тем с цел...   \n",
       "\n",
       "                                                  topic  \n",
       "0     ['Books&Literature', 'Books&Literature', 'Book...  \n",
       "1     ['Books&Literature', 'Books&Literature', 'Book...  \n",
       "2     ['Books&Literature', 'Books&Literature', 'Book...  \n",
       "3     ['Books&Literature', 'Books&Literature', 'Book...  \n",
       "4     ['Books&Literature', 'Books&Literature', 'Book...  \n",
       "...                                                 ...  \n",
       "1896  ['Books&Literature', 'Books&Literature', 'Book...  \n",
       "1897  ['Books&Literature', 'Books&Literature', 'Book...  \n",
       "1898  ['Books&Literature', 'Books&Literature', 'Book...  \n",
       "1899  ['Books&Literature', 'Books&Literature', 'Book...  \n",
       "1900  ['Books&Literature', 'Books&Literature', 'Book...  \n",
       "\n",
       "[1901 rows x 5 columns]"
      ]
     },
     "execution_count": 9,
     "metadata": {},
     "output_type": "execute_result"
    }
   ],
   "source": [
    "D = pd.read_csv('books2.csv')\n",
    "D"
   ]
  },
  {
   "cell_type": "code",
   "execution_count": 10,
   "metadata": {},
   "outputs": [
    {
     "name": "stdout",
     "output_type": "stream",
     "text": [
      "Количество записей с одного сайта по одной теме: 41886\n"
     ]
    }
   ],
   "source": [
    "count = 0\n",
    "for i in range(len(D)):\n",
    "    count += len(D['user'][i].split())\n",
    "print('Количество записей с одного сайта по одной теме:', count)"
   ]
  },
  {
   "cell_type": "code",
   "execution_count": null,
   "metadata": {},
   "outputs": [],
   "source": []
  },
  {
   "cell_type": "code",
   "execution_count": 113,
   "metadata": {},
   "outputs": [
    {
     "data": {
      "text/plain": [
       "'[\\'Что-то никто тему не начинает... Имхо, один из современных авторов, которых очень стоит почитать, — Джозеф Кутзее. \"В ожидании варваров\", \"Жизнь и время Михаэла К.\", \"Бесчестье\", \"Осень в Петербурге\"...Некоторые его вещи переведены С.Ильиным — известным переводчиком романов Набокова.сообщение модератора Доп.разьяснение от 02.10.2015Тема предназначена для высказывания мыслей и впечатлений по поводу читаемых (либо уже прочтенных) НЕ фантастических произведений.Просто ссылки на сторонние ресурсы не приветствуются.'"
      ]
     },
     "execution_count": 113,
     "metadata": {},
     "output_type": "execute_result"
    }
   ],
   "source": [
    "[x for x in D.iloc[1100].text.split(sep = '],')][0].split(sep=\"\\', \")[0]# 41"
   ]
  },
  {
   "cell_type": "code",
   "execution_count": 115,
   "metadata": {},
   "outputs": [
    {
     "data": {
      "text/plain": [
       "0.82"
      ]
     },
     "execution_count": 115,
     "metadata": {},
     "output_type": "execute_result"
    }
   ],
   "source": [
    "41/50"
   ]
  },
  {
   "cell_type": "code",
   "execution_count": 114,
   "metadata": {},
   "outputs": [
    {
     "data": {
      "text/plain": [
       "50"
      ]
     },
     "execution_count": 114,
     "metadata": {},
     "output_type": "execute_result"
    }
   ],
   "source": [
    "50"
   ]
  },
  {
   "cell_type": "code",
   "execution_count": null,
   "metadata": {},
   "outputs": [],
   "source": []
  }
 ],
 "metadata": {
  "kernelspec": {
   "display_name": "Python 3 (ipykernel)",
   "language": "python",
   "name": "python3"
  },
  "language_info": {
   "codemirror_mode": {
    "name": "ipython",
    "version": 3
   },
   "file_extension": ".py",
   "mimetype": "text/x-python",
   "name": "python",
   "nbconvert_exporter": "python",
   "pygments_lexer": "ipython3",
   "version": "3.8.8"
  }
 },
 "nbformat": 4,
 "nbformat_minor": 2
}
