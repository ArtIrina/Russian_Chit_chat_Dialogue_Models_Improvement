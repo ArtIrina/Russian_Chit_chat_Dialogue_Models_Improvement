{
 "cells": [
  {
   "cell_type": "markdown",
   "metadata": {},
   "source": [
    "https://www.travel.ru/community/"
   ]
  },
  {
   "cell_type": "code",
   "execution_count": 1,
   "metadata": {},
   "outputs": [],
   "source": [
    "# pip install bs"
   ]
  },
  {
   "cell_type": "code",
   "execution_count": 10,
   "metadata": {},
   "outputs": [
    {
     "data": {
      "text/html": [
       "<div>\n",
       "<style scoped>\n",
       "    .dataframe tbody tr th:only-of-type {\n",
       "        vertical-align: middle;\n",
       "    }\n",
       "\n",
       "    .dataframe tbody tr th {\n",
       "        vertical-align: top;\n",
       "    }\n",
       "\n",
       "    .dataframe thead th {\n",
       "        text-align: right;\n",
       "    }\n",
       "</style>\n",
       "<table border=\"1\" class=\"dataframe\">\n",
       "  <thead>\n",
       "    <tr style=\"text-align: right;\">\n",
       "      <th></th>\n",
       "      <th>text</th>\n",
       "    </tr>\n",
       "  </thead>\n",
       "  <tbody>\n",
       "  </tbody>\n",
       "</table>\n",
       "</div>"
      ],
      "text/plain": [
       "Empty DataFrame\n",
       "Columns: [text]\n",
       "Index: []"
      ]
     },
     "execution_count": 10,
     "metadata": {},
     "output_type": "execute_result"
    }
   ],
   "source": [
    "import pandas as pd\n",
    "from bs4 import BeautifulSoup\n",
    "import requests\n",
    "import re\n",
    "from tqdm.notebook import tqdm\n",
    "\n",
    "df = pd.DataFrame(columns=['text'])\n",
    "df"
   ]
  },
  {
   "cell_type": "code",
   "execution_count": 130,
   "metadata": {},
   "outputs": [],
   "source": [
    "url = 'https://www.travel.ru/community/topic/45450-%D1%87%D0%B5%D1%80%D0%BD%D0%BE%D0%B3%D0%BE%D1%80%D0%B8%D1%8F-%D0%B3%D0%BB%D0%B0%D0%B7%D0%B0%D0%BC%D0%B8-%D0%BF%D0%BE%D1%81%D1%82%D0%BE%D1%80%D0%BE%D0%BD%D0%BD%D0%B5%D0%B3%D0%BE/'"
   ]
  },
  {
   "cell_type": "code",
   "execution_count": 131,
   "metadata": {},
   "outputs": [
    {
     "name": "stdout",
     "output_type": "stream",
     "text": [
      "<Response [200]>\n"
     ]
    }
   ],
   "source": [
    "response = requests.get(url)\n",
    "print(response)"
   ]
  },
  {
   "cell_type": "code",
   "execution_count": 132,
   "metadata": {},
   "outputs": [],
   "source": [
    "html = response.text"
   ]
  },
  {
   "cell_type": "code",
   "execution_count": null,
   "metadata": {},
   "outputs": [],
   "source": []
  },
  {
   "cell_type": "code",
   "execution_count": 136,
   "metadata": {},
   "outputs": [
    {
     "name": "stdout",
     "output_type": "stream",
     "text": [
      "Отели\n",
      "Авиабилеты\n",
      "Ж/Д билеты\n",
      "Расширенный\n"
     ]
    },
    {
     "ename": "AttributeError",
     "evalue": "'NoneType' object has no attribute 'text'",
     "output_type": "error",
     "traceback": [
      "\u001b[0;31m---------------------------------------------------------------------------\u001b[0m",
      "\u001b[0;31mAttributeError\u001b[0m                            Traceback (most recent call last)",
      "\u001b[0;32m/tmp/ipykernel_33160/3720219264.py\u001b[0m in \u001b[0;36m<module>\u001b[0;34m\u001b[0m\n\u001b[1;32m      6\u001b[0m \u001b[0;31m# cnt = 0\u001b[0m\u001b[0;34m\u001b[0m\u001b[0;34m\u001b[0m\u001b[0;34m\u001b[0m\u001b[0m\n\u001b[1;32m      7\u001b[0m \u001b[0;32mfor\u001b[0m \u001b[0mtd\u001b[0m \u001b[0;32min\u001b[0m \u001b[0mtds\u001b[0m\u001b[0;34m:\u001b[0m\u001b[0;34m\u001b[0m\u001b[0;34m\u001b[0m\u001b[0m\n\u001b[0;32m----> 8\u001b[0;31m     \u001b[0mprint\u001b[0m\u001b[0;34m(\u001b[0m\u001b[0mtd\u001b[0m\u001b[0;34m.\u001b[0m\u001b[0ma\u001b[0m\u001b[0;34m.\u001b[0m\u001b[0mtext\u001b[0m\u001b[0;34m)\u001b[0m\u001b[0;34m\u001b[0m\u001b[0;34m\u001b[0m\u001b[0m\n\u001b[0m\u001b[1;32m      9\u001b[0m \u001b[0;34m\u001b[0m\u001b[0m\n\u001b[1;32m     10\u001b[0m \u001b[0;31m#         p = td.find_all('a')\u001b[0m\u001b[0;34m\u001b[0m\u001b[0;34m\u001b[0m\u001b[0;34m\u001b[0m\u001b[0m\n",
      "\u001b[0;31mAttributeError\u001b[0m: 'NoneType' object has no attribute 'text'"
     ]
    }
   ],
   "source": [
    "# soup = BeautifulSoup(html, features=\"html.parser\")\n",
    "\n",
    "soup = BeautifulSoup(html, features=\"html.parser\")\n",
    "tds = soup.find_all('li', 'class'==\"pagejump clickable pj0456692001\")\n",
    "\n",
    "# cnt = 0\n",
    "for td in tds:\n",
    "    \n",
    "    print(td.a.text)\n",
    "\n",
    "#         p = td.find_all('a')\n",
    "#         for q in p:\n",
    "#             if link in q['href']:\n",
    "#                 links.append(q['href'])\n",
    "#     return sorted(list(set(links)))"
   ]
  },
  {
   "cell_type": "code",
   "execution_count": 129,
   "metadata": {},
   "outputs": [
    {
     "data": {
      "application/vnd.jupyter.widget-view+json": {
       "model_id": "f0537ad21422442595ea6cdec4111aa3",
       "version_major": 2,
       "version_minor": 0
      },
      "text/plain": [
       "  0%|          | 0/33 [00:00<?, ?it/s]"
      ]
     },
     "metadata": {},
     "output_type": "display_data"
    },
    {
     "name": "stdout",
     "output_type": "stream",
     "text": [
      "https://www.travel.ru/community/forum/41-балканы/\n",
      "https://www.travel.ru/community/forum/47-бенилюкс/\n",
      "https://www.travel.ru/community/forum/49-болгария/\n",
      "https://www.travel.ru/community/forum/40-великобритания-и-соседи/\n",
      "https://www.travel.ru/community/forum/35-германия/\n",
      "https://www.travel.ru/community/forum/29-греция-и-кипр/\n",
      "https://www.travel.ru/community/forum/24-испания/\n",
      "https://www.travel.ru/community/forum/32-италия-и-маленькие-соседи/\n",
      "https://www.travel.ru/community/forum/48-португалия/\n",
      "https://www.travel.ru/community/forum/31-прибалтика/\n",
      "https://www.travel.ru/community/forum/25-россия/\n",
      "https://www.travel.ru/community/forum/34-скандинавия/\n",
      "https://www.travel.ru/community/forum/38-украина-и-белоруссия/\n",
      "https://www.travel.ru/community/forum/36-франция-и-монако/\n",
      "https://www.travel.ru/community/forum/28-чехия/\n",
      "https://www.travel.ru/community/forum/15-остальная-европа/\n",
      "https://www.travel.ru/community/forum/17-ближний-восток/\n",
      "https://www.travel.ru/community/forum/43-индия-и-шри-ланка/\n",
      "https://www.travel.ru/community/forum/37-кавказ-и-средняя-азия/\n",
      "https://www.travel.ru/community/forum/51-оаэ/\n",
      "https://www.travel.ru/community/forum/33-таиланд/\n",
      "https://www.travel.ru/community/forum/22-турция/\n",
      "https://www.travel.ru/community/forum/46-юго-восточная-азия/\n",
      "https://www.travel.ru/community/forum/52-япония/\n",
      "https://www.travel.ru/community/forum/16-вся-остальная-азия/\n",
      "https://www.travel.ru/community/forum/13-африка-настоящая/\n",
      "https://www.travel.ru/community/forum/21-египет/\n",
      "https://www.travel.ru/community/forum/50-марокко/\n",
      "https://www.travel.ru/community/forum/42-тунис/\n",
      "https://www.travel.ru/community/forum/14-северная-америка/\n",
      "https://www.travel.ru/community/forum/44-центральная-америка-и-карибы/\n",
      "https://www.travel.ru/community/forum/45-южная-америка-и-антарктида/\n",
      "https://www.travel.ru/community/forum/26-австралия-и-океания/\n"
     ]
    }
   ],
   "source": [
    "from urllib.request import Request, urlopen\n",
    "from bs4 import BeautifulSoup\n",
    "import requests\n",
    "import json\n",
    "\n",
    "def get_html(url):\n",
    "    response = requests.get(url)\n",
    "    return response.text\n",
    "\n",
    "def get_all_links(html):\n",
    "    soup = BeautifulSoup(html, features=\"html.parser\")\n",
    "    links = []\n",
    "    tds = soup.find_all('td', {'class': 'col_c_forum'})\n",
    "    for td in tds:\n",
    "        links.append(td.a['href'])\n",
    "    links = links[:33]\n",
    "    return links\n",
    "\n",
    "# def get_all_links_on_page(html, link):\n",
    "#     soup = BeautifulSoup(html, features=\"html.parser\")\n",
    "#     tds = soup.find_all('tr')\n",
    "#     for td in tds:\n",
    "#         i = td.find('td', {'class':'td-block'})\n",
    "#         if i != None:\n",
    "#             return(i.find_all('a')[-1].text)\n",
    "    \n",
    "def get_links(html, link):\n",
    "    soup = BeautifulSoup(html, features=\"html.parser\")\n",
    "    links = []\n",
    "    tds = soup.find_all('li', {'class':'ipsPagination_page'})\n",
    "    for td in tds:\n",
    "        p = td.find_all('a')\n",
    "        for q in p:\n",
    "            if link in q['href']:\n",
    "                links.append(q['href'])\n",
    "    if len(links) == 0:\n",
    "        return [link]\n",
    "    return sorted(list(set(links)))\n",
    "\n",
    "def get_all_links_one_theme(html):\n",
    "    soup = BeautifulSoup(html, features=\"html.parser\")\n",
    "    links = []\n",
    "    tds = soup.find_all('h4', {'class':'ipsDataItem_title ipsType_break'})\n",
    "    for td in tds:\n",
    "        p = td.find_all('a')\n",
    "        for q in p:\n",
    "            links.append(q['href'])\n",
    "    return links\n",
    "\n",
    "def get_page_data(html):\n",
    "    soup = BeautifulSoup(urlopen(html), features=\"html.parser\")\n",
    "\n",
    "    # user\n",
    "    tds = soup.find_all('strong', 'itemprop'==\"name\")\n",
    "    users = []\n",
    "    for td in tds:\n",
    "        if 'Изменено' not in td.text:\n",
    "            users.append(td.text)\n",
    "    print(users)\n",
    "\n",
    "\n",
    "    # time\n",
    "    tds = soup.find_all('p', {'class':\"ipsType_reset\"})\n",
    "    times = []\n",
    "    for td in tds:\n",
    "        if 'Опубликовано' in td.text:\n",
    "            times.append(td.text)\n",
    "    print(times)\n",
    "\n",
    "\n",
    "    # text\n",
    "    tds = soup.find_all('div', {'class':'ipsType_normal ipsType_richText ipsContained'})\n",
    "    tex = []\n",
    "    for td in tds: \n",
    "        if td.find('blockquote') != None:\n",
    "            p = td.find_all('p')\n",
    "            tex.append(p[-1].text)\n",
    "        else:\n",
    "            tex.append(td.text)\n",
    "    print(tex)\n",
    "    \n",
    "\n",
    "    # quote\n",
    "    tds = soup.find_all('div', {'class':'ipsType_normal ipsType_richText ipsContained'})\n",
    "    temp = []\n",
    "    for td in tds: \n",
    "        if td.find('blockquote') != None:\n",
    "            p = td.find('div', {'class':\"ipsQuote_contents\"})\n",
    "            if p is not None:\n",
    "                temp.append(p.text)\n",
    "        else:\n",
    "            temp.append('')\n",
    "    print(temp)\n",
    "\n",
    "    data = ({'user': users,                    \n",
    "             'time': times,      \n",
    "             'text': tex,            \n",
    "             'quote': temp,          \n",
    "             'topic': ['Beauty'] * len(users)\n",
    "            })          \n",
    "    return data\n",
    "\n",
    "def page_content(all_links, table):\n",
    "    for link in tqdm(all_links):\n",
    "        print(link)\n",
    "    \n",
    "#             print(str.split(td.text)[3])\n",
    "#             cnt = str.split(td.text)[3]\n",
    "#             break\n",
    "            \n",
    "#         for i in range(cnt):\n",
    "#             links = str(link) + str(page-) + str(i) + str(?prune_day=100&sort_by=Z-A&sort_key=last_post&topicfilter=all) #get_links(get_html(link), link)\n",
    "#             for l in []:\n",
    "#                 all_links_one_theme = get_all_links_one_theme(get_html(l))\n",
    "#                 for t in tqdm(all_links_one_theme):\n",
    "#                     page = get_links(get_html(t), t)\n",
    "#                     for p in page:\n",
    "#                        print(p)\n",
    "#                     dat a = get_page_data(p)\n",
    "#                     table.append(data)\n",
    "\n",
    "table = []\n",
    "    \n",
    "url = 'https://www.travel.ru/community/'\n",
    "\n",
    "all_links = get_all_links(get_html(url))\n",
    "page_content(all_links, table)"
   ]
  },
  {
   "cell_type": "code",
   "execution_count": null,
   "metadata": {},
   "outputs": [],
   "source": [
    "pd.DataFrame(table).to_csv('Travel.csv', index=False)"
   ]
  },
  {
   "cell_type": "code",
   "execution_count": null,
   "metadata": {},
   "outputs": [],
   "source": [
    "D = pd.read_csv('Travel.csv')\n",
    "D"
   ]
  },
  {
   "cell_type": "code",
   "execution_count": null,
   "metadata": {},
   "outputs": [],
   "source": [
    "count = 0\n",
    "for i in range(len(D)):\n",
    "    count += len(D['user'][i].split())\n",
    "print('Количество записей с одного сайта по одной теме:', count)"
   ]
  }
 ],
 "metadata": {
  "kernelspec": {
   "display_name": "Python 3 (ipykernel)",
   "language": "python",
   "name": "python3"
  },
  "language_info": {
   "codemirror_mode": {
    "name": "ipython",
    "version": 3
   },
   "file_extension": ".py",
   "mimetype": "text/x-python",
   "name": "python",
   "nbconvert_exporter": "python",
   "pygments_lexer": "ipython3",
   "version": "3.8.8"
  }
 },
 "nbformat": 4,
 "nbformat_minor": 2
}
