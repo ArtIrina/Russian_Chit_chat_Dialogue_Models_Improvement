{
 "cells": [
  {
   "cell_type": "markdown",
   "metadata": {},
   "source": [
    "https://zonehobby.com/forum/viewforum.php?f=62"
   ]
  },
  {
   "cell_type": "code",
   "execution_count": 1,
   "metadata": {},
   "outputs": [],
   "source": [
    "# pip install bs"
   ]
  },
  {
   "cell_type": "code",
   "execution_count": 2,
   "metadata": {},
   "outputs": [
    {
     "data": {
      "text/html": [
       "<div>\n",
       "<style scoped>\n",
       "    .dataframe tbody tr th:only-of-type {\n",
       "        vertical-align: middle;\n",
       "    }\n",
       "\n",
       "    .dataframe tbody tr th {\n",
       "        vertical-align: top;\n",
       "    }\n",
       "\n",
       "    .dataframe thead th {\n",
       "        text-align: right;\n",
       "    }\n",
       "</style>\n",
       "<table border=\"1\" class=\"dataframe\">\n",
       "  <thead>\n",
       "    <tr style=\"text-align: right;\">\n",
       "      <th></th>\n",
       "      <th>text</th>\n",
       "    </tr>\n",
       "  </thead>\n",
       "  <tbody>\n",
       "  </tbody>\n",
       "</table>\n",
       "</div>"
      ],
      "text/plain": [
       "Empty DataFrame\n",
       "Columns: [text]\n",
       "Index: []"
      ]
     },
     "execution_count": 2,
     "metadata": {},
     "output_type": "execute_result"
    }
   ],
   "source": [
    "import pandas as pd\n",
    "from bs4 import BeautifulSoup\n",
    "import requests\n",
    "import re\n",
    "from tqdm.notebook import tqdm\n",
    "\n",
    "df = pd.DataFrame(columns=['text'])\n",
    "df"
   ]
  },
  {
   "cell_type": "code",
   "execution_count": 45,
   "metadata": {},
   "outputs": [],
   "source": [
    "url = 'https://zonehobby.com/forum/viewtopic.php?t=1584'"
   ]
  },
  {
   "cell_type": "code",
   "execution_count": 46,
   "metadata": {},
   "outputs": [
    {
     "name": "stdout",
     "output_type": "stream",
     "text": [
      "<Response [200]>\n"
     ]
    }
   ],
   "source": [
    "headers = requests.utils.default_headers()\n",
    "\n",
    "# headers.update(\n",
    "#     {\n",
    "#         'User-Agent': 'My User Agent 1.0',\n",
    "#     }\n",
    "# )\n",
    "\n",
    "response = requests.get(url)#, headers=headers\n",
    "print(response)"
   ]
  },
  {
   "cell_type": "code",
   "execution_count": 47,
   "metadata": {},
   "outputs": [],
   "source": [
    "html = response.text"
   ]
  },
  {
   "cell_type": "code",
   "execution_count": 48,
   "metadata": {},
   "outputs": [
    {
     "ename": "SyntaxError",
     "evalue": "invalid syntax (4226065970.py, line 3)",
     "output_type": "error",
     "traceback": [
      "\u001b[0;36m  File \u001b[0;32m\"/tmp/ipykernel_169438/4226065970.py\"\u001b[0;36m, line \u001b[0;32m3\u001b[0m\n\u001b[0;31m    https://zonehobby.com/forum/viewtopic.php?t=1584\u001b[0m\n\u001b[0m          ^\u001b[0m\n\u001b[0;31mSyntaxError\u001b[0m\u001b[0;31m:\u001b[0m invalid syntax\n"
     ]
    }
   ],
   "source": [
    "# soup = BeautifulSoup(html, features=\"html.parser\")\n",
    "# soup\n",
    "https://zonehobby.com/forum/viewtopic.php?t=1584"
   ]
  },
  {
   "cell_type": "code",
   "execution_count": 122,
   "metadata": {},
   "outputs": [
    {
     "name": "stdout",
     "output_type": "stream",
     "text": [
      "19\n"
     ]
    }
   ],
   "source": [
    "# soup = BeautifulSoup(html, features=\"html.parser\")\n",
    "\n",
    "soup = BeautifulSoup(html, features=\"html.parser\")\n",
    "links = []\n",
    "tds = soup.find_all('div', {'class':'pagination'})\n",
    "for td in tds:  \n",
    "    p = td.find_all('a', {'class':'button', 'role': 'button'})\n",
    "#     print(p)\n",
    "    links.append(p[0])\n",
    "\n",
    "print(str.split(links[0].text)[-1])\n"
   ]
  },
  {
   "cell_type": "code",
   "execution_count": 136,
   "metadata": {},
   "outputs": [
    {
     "data": {
      "application/vnd.jupyter.widget-view+json": {
       "model_id": "b5b4d2af3c6c442a80bfb7b3940794d1",
       "version_major": 2,
       "version_minor": 0
      },
      "text/plain": [
       "  0%|          | 0/24 [00:00<?, ?it/s]"
      ]
     },
     "metadata": {},
     "output_type": "display_data"
    },
    {
     "name": "stdout",
     "output_type": "stream",
     "text": [
      "https://zonehobby.com/forum/viewtopic.php?t=1584&sid=88eb24b4ddf1133a7a063751046e991e\n",
      "2\n",
      "https://zonehobby.com/forum/viewtopic.php?t=1584&sid=88eb24b4ddf1133a7a063751046e991e&start=0\n",
      "https://zonehobby.com/forum/viewtopic.php?t=1584&sid=88eb24b4ddf1133a7a063751046e991e&start=15\n",
      "https://zonehobby.com/forum/viewtopic.php?t=334&sid=88eb24b4ddf1133a7a063751046e991e\n",
      "1\n",
      "https://zonehobby.com/forum/viewtopic.php?t=334&sid=88eb24b4ddf1133a7a063751046e991e&start=0\n",
      "https://zonehobby.com/forum/viewtopic.php?t=709&sid=88eb24b4ddf1133a7a063751046e991e\n",
      "1\n",
      "https://zonehobby.com/forum/viewtopic.php?t=709&sid=88eb24b4ddf1133a7a063751046e991e&start=0\n",
      "https://zonehobby.com/forum/viewtopic.php?t=2522&sid=88eb24b4ddf1133a7a063751046e991e\n"
     ]
    },
    {
     "ename": "IndexError",
     "evalue": "list index out of range",
     "output_type": "error",
     "traceback": [
      "\u001b[0;31m---------------------------------------------------------------------------\u001b[0m",
      "\u001b[0;31mIndexError\u001b[0m                                Traceback (most recent call last)",
      "\u001b[0;32m/tmp/ipykernel_169438/2413078182.py\u001b[0m in \u001b[0;36m<module>\u001b[0;34m\u001b[0m\n\u001b[1;32m    131\u001b[0m \u001b[0murl\u001b[0m \u001b[0;34m=\u001b[0m \u001b[0;34m'https://zonehobby.com/forum/viewforum.php?f=62'\u001b[0m\u001b[0;34m\u001b[0m\u001b[0;34m\u001b[0m\u001b[0m\n\u001b[1;32m    132\u001b[0m \u001b[0mall_links\u001b[0m \u001b[0;34m=\u001b[0m \u001b[0mget_all_links\u001b[0m\u001b[0;34m(\u001b[0m\u001b[0mget_html\u001b[0m\u001b[0;34m(\u001b[0m\u001b[0murl\u001b[0m\u001b[0;34m)\u001b[0m\u001b[0;34m)\u001b[0m\u001b[0;34m[\u001b[0m\u001b[0;36m1\u001b[0m\u001b[0;34m:\u001b[0m\u001b[0;34m]\u001b[0m\u001b[0;34m\u001b[0m\u001b[0;34m\u001b[0m\u001b[0m\n\u001b[0;32m--> 133\u001b[0;31m \u001b[0mpage_content\u001b[0m\u001b[0;34m(\u001b[0m\u001b[0mall_links\u001b[0m\u001b[0;34m,\u001b[0m \u001b[0mtable\u001b[0m\u001b[0;34m)\u001b[0m\u001b[0;34m\u001b[0m\u001b[0;34m\u001b[0m\u001b[0m\n\u001b[0m",
      "\u001b[0;32m/tmp/ipykernel_169438/2413078182.py\u001b[0m in \u001b[0;36mpage_content\u001b[0;34m(all_links, table)\u001b[0m\n\u001b[1;32m    107\u001b[0m         \u001b[0mbase\u001b[0m \u001b[0;34m=\u001b[0m \u001b[0;34m'https://zonehobby.com/forum'\u001b[0m \u001b[0;34m+\u001b[0m \u001b[0mlink\u001b[0m\u001b[0;34m[\u001b[0m\u001b[0;36m1\u001b[0m\u001b[0;34m:\u001b[0m\u001b[0;34m]\u001b[0m\u001b[0;34m\u001b[0m\u001b[0;34m\u001b[0m\u001b[0m\n\u001b[1;32m    108\u001b[0m         \u001b[0mprint\u001b[0m\u001b[0;34m(\u001b[0m\u001b[0mbase\u001b[0m\u001b[0;34m)\u001b[0m\u001b[0;34m\u001b[0m\u001b[0;34m\u001b[0m\u001b[0m\n\u001b[0;32m--> 109\u001b[0;31m         \u001b[0mlinks\u001b[0m \u001b[0;34m=\u001b[0m \u001b[0mget_all_links_one_theme\u001b[0m\u001b[0;34m(\u001b[0m\u001b[0mget_html\u001b[0m\u001b[0;34m(\u001b[0m\u001b[0mbase\u001b[0m\u001b[0;34m)\u001b[0m\u001b[0;34m)\u001b[0m\u001b[0;34m\u001b[0m\u001b[0;34m\u001b[0m\u001b[0m\n\u001b[0m\u001b[1;32m    110\u001b[0m         \u001b[0mprint\u001b[0m\u001b[0;34m(\u001b[0m\u001b[0mlen\u001b[0m\u001b[0;34m(\u001b[0m\u001b[0mlinks\u001b[0m\u001b[0;34m)\u001b[0m\u001b[0;34m)\u001b[0m\u001b[0;34m\u001b[0m\u001b[0;34m\u001b[0m\u001b[0m\n\u001b[1;32m    111\u001b[0m         \u001b[0;32mfor\u001b[0m \u001b[0mi\u001b[0m \u001b[0;32min\u001b[0m \u001b[0mrange\u001b[0m\u001b[0;34m(\u001b[0m\u001b[0;36m1\u001b[0m\u001b[0;34m,\u001b[0m \u001b[0mlen\u001b[0m\u001b[0;34m(\u001b[0m\u001b[0mlinks\u001b[0m\u001b[0;34m)\u001b[0m\u001b[0;34m+\u001b[0m\u001b[0;36m1\u001b[0m\u001b[0;34m)\u001b[0m\u001b[0;34m:\u001b[0m\u001b[0;34m\u001b[0m\u001b[0;34m\u001b[0m\u001b[0m\n",
      "\u001b[0;32m/tmp/ipykernel_169438/2413078182.py\u001b[0m in \u001b[0;36mget_all_links_one_theme\u001b[0;34m(html)\u001b[0m\n\u001b[1;32m     43\u001b[0m         \u001b[0mp\u001b[0m \u001b[0;34m=\u001b[0m \u001b[0mtd\u001b[0m\u001b[0;34m.\u001b[0m\u001b[0mfind_all\u001b[0m\u001b[0;34m(\u001b[0m\u001b[0;34m'a'\u001b[0m\u001b[0;34m,\u001b[0m \u001b[0;34m{\u001b[0m\u001b[0;34m'class'\u001b[0m\u001b[0;34m:\u001b[0m\u001b[0;34m'button'\u001b[0m\u001b[0;34m,\u001b[0m \u001b[0;34m'role'\u001b[0m\u001b[0;34m:\u001b[0m \u001b[0;34m'button'\u001b[0m\u001b[0;34m}\u001b[0m\u001b[0;34m)\u001b[0m\u001b[0;34m\u001b[0m\u001b[0;34m\u001b[0m\u001b[0m\n\u001b[1;32m     44\u001b[0m     \u001b[0;31m#     print(p)\u001b[0m\u001b[0;34m\u001b[0m\u001b[0;34m\u001b[0m\u001b[0;34m\u001b[0m\u001b[0m\n\u001b[0;32m---> 45\u001b[0;31m         \u001b[0mlinks\u001b[0m\u001b[0;34m.\u001b[0m\u001b[0mappend\u001b[0m\u001b[0;34m(\u001b[0m\u001b[0mp\u001b[0m\u001b[0;34m[\u001b[0m\u001b[0;36m0\u001b[0m\u001b[0;34m]\u001b[0m\u001b[0;34m)\u001b[0m\u001b[0;34m\u001b[0m\u001b[0;34m\u001b[0m\u001b[0m\n\u001b[0m\u001b[1;32m     46\u001b[0m \u001b[0;31m#     print(str.split(links[0].text)[-1])\u001b[0m\u001b[0;34m\u001b[0m\u001b[0;34m\u001b[0m\u001b[0;34m\u001b[0m\u001b[0m\n\u001b[1;32m     47\u001b[0m \u001b[0;34m\u001b[0m\u001b[0m\n",
      "\u001b[0;31mIndexError\u001b[0m: list index out of range"
     ]
    }
   ],
   "source": [
    "from urllib.request import Request, urlopen\n",
    "from bs4 import BeautifulSoup\n",
    "import requests\n",
    "import json\n",
    "\n",
    "def get_html(url):\n",
    "    response = requests.get(url)\n",
    "    return response.text\n",
    "\n",
    "def get_all_links(html):\n",
    "    soup = BeautifulSoup(html, features=\"html.parser\")\n",
    "    links = []\n",
    "    tds = soup.find_all('div', 'list-inner')\n",
    "    for td in tds:\n",
    "        if td.a != None:\n",
    "            links.append(td.a['href'])\n",
    "    return links\n",
    "\n",
    "# def get_all_links_on_page(html, link):\n",
    "#     soup = BeautifulSoup(html, features=\"html.parser\")\n",
    "#     tds = soup.find_all('tr')\n",
    "#     for td in tds:\n",
    "#         i = td.find('td', {'class':'td-block'})\n",
    "#         if i != None:\n",
    "#             return(i.find_all('a')[-1].text)\n",
    "    \n",
    "def get_links(html, link):\n",
    "    soup = BeautifulSoup(html, features=\"html.parser\")\n",
    "    links = []\n",
    "    tds = soup.find_all('li', {'class':'ipsPagination_page'})\n",
    "    for td in tds:\n",
    "        p = td.find_all('a')\n",
    "        for q in p:\n",
    "            if link in q['href']:\n",
    "                links.append(q['href'])\n",
    "    return sorted(list(set(links)))\n",
    "\n",
    "def get_all_links_one_theme(html):\n",
    "    soup = BeautifulSoup(html, features=\"html.parser\")\n",
    "    links = []\n",
    "    tds = soup.find_all('div', {'class':'pagination'})\n",
    "    for td in tds:  \n",
    "        p = td.find_all('a', {'class':'button', 'role': 'button'})\n",
    "    #     print(p)\n",
    "        links.append(p[0])\n",
    "#     print(str.split(links[0].text)[-1])  \n",
    "\n",
    "    return(str.split(links[0].text)[-1])\n",
    "\n",
    "\n",
    "def get_page_data(html):\n",
    "    soup = BeautifulSoup(urlopen(html), features=\"html.parser\")\n",
    "\n",
    "    # user\n",
    "    tds = soup.find_all('strong', 'itemprop'==\"name\")\n",
    "    users = []\n",
    "    for td in tds:\n",
    "        if 'Изменено' not in td.text:\n",
    "            users.append(td.text)\n",
    "    print(users)\n",
    "\n",
    "\n",
    "    # time\n",
    "    tds = soup.find_all('p', {'class':\"ipsType_reset\"})\n",
    "    times = []\n",
    "    for td in tds:\n",
    "        if 'Опубликовано' in td.text:\n",
    "            times.append(td.text)\n",
    "    print(times)\n",
    "\n",
    "\n",
    "    # text\n",
    "    tds = soup.find_all('div', {'class':'ipsType_normal ipsType_richText ipsContained'})\n",
    "    tex = []\n",
    "    for td in tds: \n",
    "        if td.find('blockquote') != None:\n",
    "            p = td.find_all('p')\n",
    "            tex.append(p[-1].text)\n",
    "        else:\n",
    "            tex.append(td.text)\n",
    "    print(tex)\n",
    "    \n",
    "\n",
    "    # quote\n",
    "    tds = soup.find_all('div', {'class':'ipsType_normal ipsType_richText ipsContained'})\n",
    "    temp = []\n",
    "    for td in tds: \n",
    "        if td.find('blockquote') != None:\n",
    "            p = td.find('div', {'class':\"ipsQuote_contents\"})\n",
    "            if p is not None:\n",
    "                temp.append(p.text)\n",
    "        else:\n",
    "            temp.append('')\n",
    "    print(temp)\n",
    "\n",
    "    data = ({'user': users,                    \n",
    "             'time': times,      \n",
    "             'text': tex,            \n",
    "             'quote': temp,          \n",
    "             'topic': ['Beauty'] * len(users)\n",
    "            })          \n",
    "    return data\n",
    "\n",
    "def page_content(all_links, table):\n",
    "    for link in tqdm(all_links):\n",
    "#         print(link)\n",
    "        base = 'https://zonehobby.com/forum' + link[1:]\n",
    "        print(base)\n",
    "        links = get_all_links_one_theme(get_html(base))\n",
    "        print(len(links))\n",
    "        for i in range(1, len(links)+1):\n",
    "            x = 0\n",
    "            print(base + '&start=' + str(15 * (i - 1)))\n",
    "#             print('https://zonehobby.com/forum' + (i[1:])\n",
    "    \n",
    "\n",
    "            \n",
    "#         for i in range(cnt):\n",
    "#             links = str(link) + str(page-) + str(i) + str(?prune_day=100&sort_by=Z-A&sort_key=last_post&topicfilter=all) #get_links(get_html(link), link)\n",
    "#             for l in []:\n",
    "#                 all_links_one_theme = get_all_links_one_theme(get_html(l))\n",
    "#                 for t in tqdm(all_links_one_theme):\n",
    "#                     page = get_links(get_html(t), t)\n",
    "#                     for p in page:\n",
    "#                        print(p)\n",
    "#                     dat a = get_page_data(p)\n",
    "#                     table.append(data)\n",
    "\n",
    "table = []\n",
    "    \n",
    "url = 'https://zonehobby.com/forum/viewforum.php?f=62'\n",
    "all_links = get_all_links(get_html(url))[1:]\n",
    "page_content(all_links, table)"
   ]
  },
  {
   "cell_type": "code",
   "execution_count": 42,
   "metadata": {},
   "outputs": [],
   "source": [
    "pd.DataFrame(table).to_csv('art_and_hobby.csv', index=False)"
   ]
  },
  {
   "cell_type": "code",
   "execution_count": null,
   "metadata": {},
   "outputs": [],
   "source": [
    "D = pd.read_csv('art_and_hobby.csv')\n",
    "D"
   ]
  },
  {
   "cell_type": "code",
   "execution_count": null,
   "metadata": {},
   "outputs": [],
   "source": [
    "count = 0\n",
    "for i in range(len(D)):\n",
    "    count += len(D['user'][i].split())\n",
    "print('Количество записей с одного сайта по одной теме:', count)"
   ]
  }
 ],
 "metadata": {
  "kernelspec": {
   "display_name": "Python 3 (ipykernel)",
   "language": "python",
   "name": "python3"
  },
  "language_info": {
   "codemirror_mode": {
    "name": "ipython",
    "version": 3
   },
   "file_extension": ".py",
   "mimetype": "text/x-python",
   "name": "python",
   "nbconvert_exporter": "python",
   "pygments_lexer": "ipython3",
   "version": "3.8.8"
  }
 },
 "nbformat": 4,
 "nbformat_minor": 2
}
