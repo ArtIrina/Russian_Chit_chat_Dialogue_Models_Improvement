{
 "cells": [
  {
   "cell_type": "markdown",
   "metadata": {},
   "source": [
    "https://womantalks.ru/forum/11-sekretyi-krasotyi/"
   ]
  },
  {
   "cell_type": "code",
   "execution_count": 1,
   "metadata": {},
   "outputs": [],
   "source": [
    "# pip install bs"
   ]
  },
  {
   "cell_type": "code",
   "execution_count": 2,
   "metadata": {},
   "outputs": [],
   "source": [
    "import pandas as pd\n",
    "from bs4 import BeautifulSoup\n",
    "import requests\n",
    "from tqdm.notebook import tqdm"
   ]
  },
  {
   "cell_type": "code",
   "execution_count": 1,
   "metadata": {},
   "outputs": [
    {
     "data": {
      "text/html": [
       "<div>\n",
       "<style scoped>\n",
       "    .dataframe tbody tr th:only-of-type {\n",
       "        vertical-align: middle;\n",
       "    }\n",
       "\n",
       "    .dataframe tbody tr th {\n",
       "        vertical-align: top;\n",
       "    }\n",
       "\n",
       "    .dataframe thead th {\n",
       "        text-align: right;\n",
       "    }\n",
       "</style>\n",
       "<table border=\"1\" class=\"dataframe\">\n",
       "  <thead>\n",
       "    <tr style=\"text-align: right;\">\n",
       "      <th></th>\n",
       "      <th>text</th>\n",
       "    </tr>\n",
       "  </thead>\n",
       "  <tbody>\n",
       "  </tbody>\n",
       "</table>\n",
       "</div>"
      ],
      "text/plain": [
       "Empty DataFrame\n",
       "Columns: [text]\n",
       "Index: []"
      ]
     },
     "execution_count": 1,
     "metadata": {},
     "output_type": "execute_result"
    }
   ],
   "source": [
    "df = pd.DataFrame(columns=['text'])\n",
    "df"
   ]
  },
  {
   "cell_type": "code",
   "execution_count": 51,
   "metadata": {},
   "outputs": [],
   "source": [
    "url = 'https://womantalks.ru/search/?tags=%D0%BF%D1%80%D0%BE%D0%B1%D0%BB%D0%B5%D0%BC%D1%8B+%D1%81+%D0%B2%D0%BE%D0%BB%D0%BE%D1%81%D0%B0%D0%BC%D0%B8'"
   ]
  },
  {
   "cell_type": "code",
   "execution_count": 52,
   "metadata": {},
   "outputs": [
    {
     "name": "stdout",
     "output_type": "stream",
     "text": [
      "<Response [200]>\n"
     ]
    }
   ],
   "source": [
    "response = requests.get(url)\n",
    "print(response)"
   ]
  },
  {
   "cell_type": "code",
   "execution_count": 53,
   "metadata": {},
   "outputs": [],
   "source": [
    "html = response.text"
   ]
  },
  {
   "cell_type": "code",
   "execution_count": 54,
   "metadata": {},
   "outputs": [],
   "source": [
    "# bs = BeautifulSoup(response.text,\"lxml\")\n",
    "# print(bs)"
   ]
  },
  {
   "cell_type": "code",
   "execution_count": 55,
   "metadata": {},
   "outputs": [],
   "source": [
    "import re"
   ]
  },
  {
   "cell_type": "code",
   "execution_count": 60,
   "metadata": {},
   "outputs": [
    {
     "name": "stdout",
     "output_type": "stream",
     "text": [
      "<strong>ИЛИ</strong>\n",
      "ИЛИ\n",
      "<strong>И</strong>\n",
      "И\n"
     ]
    }
   ],
   "source": [
    "# soup = BeautifulSoup(html, features=\"html.parser\")\n",
    "\n",
    "soup = BeautifulSoup(urlopen(str('https://womantalks.ru/search/?tags=%D0%BF%D1%80%D0%BE%D0%B1%D0%BB%D0%B5%D0%BC%D1%8B+%D1%81+%D0%B2%D0%BE%D0%BB%D0%BE%D1%81%D0%B0%D0%BC%D0%B8'.encode('utf-8'))[2:-1]), features=\"html.parser\")\n",
    "\n",
    "# user\n",
    "tds = soup.find_all('strong', 'itemprop'==\"name\")\n",
    "for td in tds:\n",
    "    if 'Изменено' not in td.text:\n",
    "        print(td.text)\n"
   ]
  },
  {
   "cell_type": "code",
   "execution_count": 67,
   "metadata": {
    "scrolled": true
   },
   "outputs": [
    {
     "data": {
      "application/vnd.jupyter.widget-view+json": {
       "model_id": "371f22d8218e4136a7449b03ea50363b",
       "version_major": 2,
       "version_minor": 0
      },
      "text/plain": [
       "  0%|          | 0/6 [00:00<?, ?it/s]"
      ]
     },
     "metadata": {},
     "output_type": "display_data"
    },
    {
     "data": {
      "application/vnd.jupyter.widget-view+json": {
       "model_id": "45a826a8e550401d96098f8bc7d0a62a",
       "version_major": 2,
       "version_minor": 0
      },
      "text/plain": [
       "  0%|          | 0/25 [00:00<?, ?it/s]"
      ]
     },
     "metadata": {},
     "output_type": "display_data"
    },
    {
     "name": "stdout",
     "output_type": "stream",
     "text": [
      "https://womantalks.ru/topic/283-kak-sdelat-kudri-utyuzhkom/?page=1\n",
      "https://womantalks.ru/topic/283-kak-sdelat-kudri-utyuzhkom/?page=2\n",
      "https://womantalks.ru/topic/7967-volosyi-vyipadayut/\n",
      "https://womantalks.ru/topic/1689-perhot-i-shampun/?page=1\n",
      "https://womantalks.ru/topic/1689-perhot-i-shampun/?page=2\n",
      "https://womantalks.ru/topic/1689-perhot-i-shampun/?page=3\n",
      "https://womantalks.ru/topic/1689-perhot-i-shampun/?page=4\n",
      "https://womantalks.ru/topic/1689-perhot-i-shampun/?page=5\n",
      "https://womantalks.ru/topic/5413-chto-delat-esli-ochen-suhie-volosyi/?page=1\n",
      "https://womantalks.ru/topic/5413-chto-delat-esli-ochen-suhie-volosyi/?page=2\n",
      "https://womantalks.ru/topic/5144-ne-mogu-promyit-volosyi/?page=1\n",
      "https://womantalks.ru/topic/5144-ne-mogu-promyit-volosyi/?page=2\n",
      "https://womantalks.ru/topic/8254-dlinnyie-volosyi/\n",
      "https://womantalks.ru/topic/8423-podderzhanie-tsveta-volos/\n",
      "https://womantalks.ru/topic/8595-hochu-obuchitsya-izgotovleniyu-masok-dlya-volos/\n",
      "https://womantalks.ru/topic/6549-lyubimyie-sredstva-dlya-volos/\n",
      "https://womantalks.ru/topic/6892-volosyi/\n",
      "https://womantalks.ru/topic/678-mozhno-li-vyilechit-sekushhiesya-konchiki/?page=1\n",
      "https://womantalks.ru/topic/678-mozhno-li-vyilechit-sekushhiesya-konchiki/?page=2\n",
      "https://womantalks.ru/topic/8108-chuvstvitelnaya-kozha-golovyi/\n",
      "https://womantalks.ru/topic/5148-maski-kotoryie-ukreplyayut-volosyi/\n",
      "https://womantalks.ru/topic/8528-termozashhita-dlya-volos/\n",
      "https://womantalks.ru/topic/8255-dlinnyie-volosyi/\n",
      "https://womantalks.ru/topic/1397-narodnyie-metodyi-izbavleniya-ot-perhoti/?page=1\n",
      "https://womantalks.ru/topic/1397-narodnyie-metodyi-izbavleniya-ot-perhoti/?page=2\n",
      "https://womantalks.ru/topic/8381-chto-delat-s-ochen-pushistyimi-volosami/\n",
      "https://womantalks.ru/topic/945-sol-ot-vyipadeniya-volos/\n",
      "https://womantalks.ru/topic/8332-neudachno-pokarsila-volosyi/\n",
      "https://womantalks.ru/topic/8483-volosyi-stali-suhimi-i-lomkimi/\n",
      "https://womantalks.ru/topic/1490-kak-sdelat-volosyi-blestyashhimi/?page=1\n",
      "https://womantalks.ru/topic/1490-kak-sdelat-volosyi-blestyashhimi/?page=2\n",
      "https://womantalks.ru/topic/6701-vsyo-ot-vyipadeniya-volos/\n",
      "https://womantalks.ru/topic/2068-folievaya-kislota/\n",
      "https://womantalks.ru/topic/1220-a-vyi-okrashivaete-volosyi/?page=1\n",
      "https://womantalks.ru/topic/1220-a-vyi-okrashivaete-volosyi/?page=2\n",
      "https://womantalks.ru/topic/8173-parochka-voprosov-po-uhodu-za-lyisoy-golovoy/\n"
     ]
    },
    {
     "data": {
      "application/vnd.jupyter.widget-view+json": {
       "model_id": "61eaa9937766462dbd0a878366e91dab",
       "version_major": 2,
       "version_minor": 0
      },
      "text/plain": [
       "  0%|          | 0/25 [00:00<?, ?it/s]"
      ]
     },
     "metadata": {},
     "output_type": "display_data"
    },
    {
     "name": "stdout",
     "output_type": "stream",
     "text": [
      "https://womantalks.ru/topic/378-konditsioner-dlya-volos/?page=1\n",
      "https://womantalks.ru/topic/378-konditsioner-dlya-volos/?page=2\n",
      "https://womantalks.ru/topic/378-konditsioner-dlya-volos/?page=3\n",
      "https://womantalks.ru/topic/8112-uhod-za-blondom/\n",
      "https://womantalks.ru/topic/5255-sredstva-protiv-vyipadeniya-volos/?page=1\n",
      "https://womantalks.ru/topic/5255-sredstva-protiv-vyipadeniya-volos/?page=2\n",
      "https://womantalks.ru/topic/7951-dlinnyie-volosyi/\n",
      "https://womantalks.ru/topic/4480-kak-vyi-spasaete-volosyi-osenyu-i-vesnoy/?page=1\n",
      "https://womantalks.ru/topic/4480-kak-vyi-spasaete-volosyi-osenyu-i-vesnoy/?page=2\n",
      "https://womantalks.ru/topic/6464-shampun-dlya-neposlushnyih-volos/\n",
      "https://womantalks.ru/topic/660-masla-dlya-volos/?page=1\n",
      "https://womantalks.ru/topic/660-masla-dlya-volos/?page=2\n",
      "https://womantalks.ru/topic/4226-posovetuyte-shapnun-dlya-ukrepleniya-volos/?page=1\n",
      "https://womantalks.ru/topic/4226-posovetuyte-shapnun-dlya-ukrepleniya-volos/?page=2\n",
      "https://womantalks.ru/topic/5216-maski-dlya-volos/\n",
      "https://womantalks.ru/topic/6842-nikotinovaya-kislota-da-ili-net/\n",
      "https://womantalks.ru/topic/5616-suhoy-shampun/\n",
      "https://womantalks.ru/topic/7172-vyipadenie-volos/\n",
      "https://womantalks.ru/topic/909-ne-rastut-volosyi-na-golove/\n",
      "https://womantalks.ru/topic/6400-maski-dlya-volos/\n",
      "https://womantalks.ru/topic/968-vyipadenie-i-lomkost-volos/?page=1\n",
      "https://womantalks.ru/topic/968-vyipadenie-i-lomkost-volos/?page=2\n",
      "https://womantalks.ru/topic/968-vyipadenie-i-lomkost-volos/?page=3\n",
      "https://womantalks.ru/topic/968-vyipadenie-i-lomkost-volos/?page=4\n",
      "https://womantalks.ru/topic/61-sredstva-ot-vyipadeniya-volos/?page=1\n",
      "https://womantalks.ru/topic/61-sredstva-ot-vyipadeniya-volos/?page=2\n",
      "https://womantalks.ru/topic/61-sredstva-ot-vyipadeniya-volos/?page=3\n",
      "https://womantalks.ru/topic/1523-korotkie-ili-dlinnyie-volosyi/?page=1\n",
      "https://womantalks.ru/topic/1523-korotkie-ili-dlinnyie-volosyi/?page=2\n",
      "https://womantalks.ru/topic/7203-otrashhivanie-chelki/\n",
      "https://womantalks.ru/topic/6573-idealnoe-reshenie-dlya-volos/\n",
      "https://womantalks.ru/topic/5804-pomogite-pozhaluysta-vyibrat-tsvet-volos/\n",
      "https://womantalks.ru/topic/6693-prikornevoy-obem-kak-sozdat/\n",
      "https://womantalks.ru/topic/5558-zdravstvuyte-pomogite-pozhaluysta-kakaya-kraska-nuzhna-dlya-okrashivaniya-volos/\n",
      "https://womantalks.ru/topic/5440-zhirnyie-korni-i-suhie-konchiki-chto-delat/\n",
      "https://womantalks.ru/topic/91-strizhka-volos-goryachimi-nozhnitsami/\n",
      "https://womantalks.ru/topic/6696-dizayn-kvartiryi/\n"
     ]
    },
    {
     "data": {
      "application/vnd.jupyter.widget-view+json": {
       "model_id": "132cb8bda73d49bfb6d35f571c3f801e",
       "version_major": 2,
       "version_minor": 0
      },
      "text/plain": [
       "  0%|          | 0/19 [00:00<?, ?it/s]"
      ]
     },
     "metadata": {},
     "output_type": "display_data"
    },
    {
     "name": "stdout",
     "output_type": "stream",
     "text": [
      "https://womantalks.ru/topic/4164-silnyiy-psoriaz/\n",
      "https://womantalks.ru/topic/5154-gde-narastit-volosyi/\n",
      "https://womantalks.ru/topic/268-keratinovoe-vyipryamlenie/?page=1\n",
      "https://womantalks.ru/topic/268-keratinovoe-vyipryamlenie/?page=2\n",
      "https://womantalks.ru/topic/3098-zhirnost-korney-i-uzhasno-suhie-konchiki/\n",
      "https://womantalks.ru/topic/411-mezoterapiya-golovyi/\n",
      "https://womantalks.ru/topic/5434-prodazha-volos-dlya-narashhivaniya/\n",
      "https://womantalks.ru/topic/4-pitanie-volos/?page=1\n",
      "https://womantalks.ru/topic/4-pitanie-volos/?page=2\n",
      "https://womantalks.ru/topic/83-opolaskivanie-volos/\n",
      "https://womantalks.ru/topic/1307-bezopasnoe-okrashivanie/\n",
      "https://womantalks.ru/topic/526-kakaya-mozhet-byit-opasnost-v-parikmaherskoy/\n",
      "https://womantalks.ru/topic/3619-keratinovoe-vyipryamlenie-bc-original/\n",
      "https://womantalks.ru/topic/669-laminirovanie-volos-v-domashnih-usloviyah /\n",
      "https://womantalks.ru/topic/545-mezokokteyl-ili-vitaminyi-koroche-dlya-kozhi-golovyi/\n",
      "https://womantalks.ru/topic/51-laminirovanie-volos-doma/\n",
      "https://womantalks.ru/topic/1086-botoks-dlya-volos/\n",
      "https://womantalks.ru/topic/722-a-vyi-skryivaete-sedinu/\n",
      "https://womantalks.ru/topic/1478-kak-sdelat-puchok/\n",
      "https://womantalks.ru/topic/908-vosstanovlenie-volos-posle-himioterapii/\n"
     ]
    },
    {
     "data": {
      "application/vnd.jupyter.widget-view+json": {
       "model_id": "0c75fa745a8044bc82d54eea444181e2",
       "version_major": 2,
       "version_minor": 0
      },
      "text/plain": [
       "  0%|          | 0/25 [00:00<?, ?it/s]"
      ]
     },
     "metadata": {},
     "output_type": "display_data"
    },
    {
     "name": "stdout",
     "output_type": "stream",
     "text": [
      "https://womantalks.ru/topic/4995-kak-ubrat-meshki-pod-glazami/?page=1\n",
      "https://womantalks.ru/topic/4995-kak-ubrat-meshki-pod-glazami/?page=2\n",
      "https://womantalks.ru/topic/4995-kak-ubrat-meshki-pod-glazami/?page=3\n",
      "https://womantalks.ru/topic/31-kak-izbavitsya-ot-akne-pryishhey/?page=1\n",
      "https://womantalks.ru/topic/31-kak-izbavitsya-ot-akne-pryishhey/?page=2\n",
      "https://womantalks.ru/topic/31-kak-izbavitsya-ot-akne-pryishhey/?page=3\n",
      "https://womantalks.ru/topic/31-kak-izbavitsya-ot-akne-pryishhey/?page=4\n",
      "https://womantalks.ru/topic/31-kak-izbavitsya-ot-akne-pryishhey/?page=5\n",
      "https://womantalks.ru/topic/31-kak-izbavitsya-ot-akne-pryishhey/?page=6\n",
      "https://womantalks.ru/topic/823-kak-izbavitsya-ot-suhosti-litsa/?page=1\n",
      "https://womantalks.ru/topic/823-kak-izbavitsya-ot-suhosti-litsa/?page=2\n",
      "https://womantalks.ru/topic/823-kak-izbavitsya-ot-suhosti-litsa/?page=3\n",
      "https://womantalks.ru/topic/823-kak-izbavitsya-ot-suhosti-litsa/?page=4\n",
      "https://womantalks.ru/topic/823-kak-izbavitsya-ot-suhosti-litsa/?page=5\n",
      "https://womantalks.ru/topic/823-kak-izbavitsya-ot-suhosti-litsa/?page=6\n",
      "https://womantalks.ru/topic/8689-podtyazhka-litsa-bez-operatsii/\n",
      "https://womantalks.ru/topic/869-s-kakogo-vozrasta-luchshe-nachinat-kolot-botoks/\n",
      "https://womantalks.ru/topic/8687-vyibirayu-krem-dlya-kozhi-30/\n",
      "https://womantalks.ru/topic/7176-kak-ubrat-morshhinyi-na-litse/\n",
      "https://womantalks.ru/topic/8633-chem-ubirat-vozrastnyie-izmeneniya/\n",
      "https://womantalks.ru/topic/7250-uhod-za-kozhey-litsa/\n",
      "https://womantalks.ru/topic/8660-ugrevaya-bolezn/\n",
      "https://womantalks.ru/topic/7270-izbavlyaemsya-ot-chernyih-tochek/\n",
      "https://womantalks.ru/topic/8639-korki-na-gubah/\n",
      "https://womantalks.ru/topic/8630-kazahstan-posovetuyte-kosmetologiyu/\n",
      "https://womantalks.ru/topic/30-krem-protiv-morshhin/?page=1\n",
      "https://womantalks.ru/topic/30-krem-protiv-morshhin/?page=2\n",
      "https://womantalks.ru/topic/30-krem-protiv-morshhin/?page=3\n",
      "https://womantalks.ru/topic/30-krem-protiv-morshhin/?page=4\n",
      "https://womantalks.ru/topic/30-krem-protiv-morshhin/?page=5\n",
      "https://womantalks.ru/topic/8629-rinoplastika/\n",
      "https://womantalks.ru/topic/5476-renoplastika/\n",
      "https://womantalks.ru/topic/6826-hochu-poprobovat-piling/\n",
      "https://womantalks.ru/topic/756-maski-naturalnyie-ili-pokupnyie/?page=1\n",
      "https://womantalks.ru/topic/756-maski-naturalnyie-ili-pokupnyie/?page=2\n",
      "https://womantalks.ru/topic/8576-kosmetologiya-uhod-za-kozhey/\n",
      "https://womantalks.ru/topic/8605-o-tatuazhe/\n",
      "https://womantalks.ru/topic/6523-izbavlyaemsya-ot-prostudyi-na-gubah-za-sutki/\n",
      "https://womantalks.ru/topic/457-botoks-disport-za-i-protiv/?page=1\n",
      "https://womantalks.ru/topic/457-botoks-disport-za-i-protiv/?page=2\n",
      "https://womantalks.ru/topic/3551-vesna-i-opyat-vesnushki/\n",
      "https://womantalks.ru/topic/8444-povtornaya-blefaroplastika-kogda/\n",
      "https://womantalks.ru/topic/8540-glaza/\n"
     ]
    },
    {
     "data": {
      "application/vnd.jupyter.widget-view+json": {
       "model_id": "6a148389dca84e49a141e432169c4eaa",
       "version_major": 2,
       "version_minor": 0
      },
      "text/plain": [
       "  0%|          | 0/26 [00:00<?, ?it/s]"
      ]
     },
     "metadata": {},
     "output_type": "display_data"
    },
    {
     "name": "stdout",
     "output_type": "stream",
     "text": [
      "https://womantalks.ru/topic/7303-feys-fitnes/\n",
      "https://womantalks.ru/topic/953-kak-izbavitsya-ot-pryishhey/?page=1\n",
      "https://womantalks.ru/topic/953-kak-izbavitsya-ot-pryishhey/?page=2\n",
      "https://womantalks.ru/topic/953-kak-izbavitsya-ot-pryishhey/?page=3\n",
      "https://womantalks.ru/topic/953-kak-izbavitsya-ot-pryishhey/?page=4\n"
     ]
    },
    {
     "ename": "IndexError",
     "evalue": "list index out of range",
     "output_type": "error",
     "traceback": [
      "\u001b[0;31m---------------------------------------------------------------------------\u001b[0m",
      "\u001b[0;31mIndexError\u001b[0m                                Traceback (most recent call last)",
      "\u001b[0;32m/tmp/ipykernel_46224/3647626396.py\u001b[0m in \u001b[0;36m<module>\u001b[0;34m\u001b[0m\n\u001b[1;32m    132\u001b[0m \u001b[0;34m\u001b[0m\u001b[0m\n\u001b[1;32m    133\u001b[0m \u001b[0mall_links\u001b[0m \u001b[0;34m=\u001b[0m \u001b[0mget_all_links\u001b[0m\u001b[0;34m(\u001b[0m\u001b[0mget_html\u001b[0m\u001b[0;34m(\u001b[0m\u001b[0murl\u001b[0m\u001b[0;34m)\u001b[0m\u001b[0;34m)\u001b[0m\u001b[0;34m\u001b[0m\u001b[0;34m\u001b[0m\u001b[0m\n\u001b[0;32m--> 134\u001b[0;31m \u001b[0mpage_content\u001b[0m\u001b[0;34m(\u001b[0m\u001b[0mall_links\u001b[0m\u001b[0;34m,\u001b[0m \u001b[0mtable\u001b[0m\u001b[0;34m)\u001b[0m\u001b[0;34m\u001b[0m\u001b[0;34m\u001b[0m\u001b[0m\n\u001b[0m\u001b[1;32m    135\u001b[0m \u001b[0;34m\u001b[0m\u001b[0m\n\u001b[1;32m    136\u001b[0m \u001b[0mtable\u001b[0m\u001b[0;34m.\u001b[0m\u001b[0mloc\u001b[0m\u001b[0;34m[\u001b[0m\u001b[0;34m:\u001b[0m\u001b[0;34m,\u001b[0m \u001b[0;34m'users'\u001b[0m\u001b[0;34m]\u001b[0m \u001b[0;34m=\u001b[0m \u001b[0musers\u001b[0m\u001b[0;34m\u001b[0m\u001b[0;34m\u001b[0m\u001b[0m\n",
      "\u001b[0;32m/tmp/ipykernel_46224/3647626396.py\u001b[0m in \u001b[0;36mpage_content\u001b[0;34m(all_links, table)\u001b[0m\n\u001b[1;32m    117\u001b[0m                                 \u001b[0;32mbreak\u001b[0m\u001b[0;34m\u001b[0m\u001b[0;34m\u001b[0m\u001b[0m\n\u001b[1;32m    118\u001b[0m                             \u001b[0musers\u001b[0m\u001b[0;34m.\u001b[0m\u001b[0mappend\u001b[0m\u001b[0;34m(\u001b[0m\u001b[0mus\u001b[0m\u001b[0;34m[\u001b[0m\u001b[0mi\u001b[0m\u001b[0;34m]\u001b[0m\u001b[0;34m)\u001b[0m\u001b[0;34m\u001b[0m\u001b[0;34m\u001b[0m\u001b[0m\n\u001b[0;32m--> 119\u001b[0;31m                             \u001b[0mtimes\u001b[0m\u001b[0;34m.\u001b[0m\u001b[0mappend\u001b[0m\u001b[0;34m(\u001b[0m\u001b[0mti\u001b[0m\u001b[0;34m[\u001b[0m\u001b[0mi\u001b[0m\u001b[0;34m]\u001b[0m\u001b[0;34m)\u001b[0m\u001b[0;34m\u001b[0m\u001b[0;34m\u001b[0m\u001b[0m\n\u001b[0m\u001b[1;32m    120\u001b[0m                             \u001b[0mtex\u001b[0m\u001b[0;34m.\u001b[0m\u001b[0mappend\u001b[0m\u001b[0;34m(\u001b[0m\u001b[0mte\u001b[0m\u001b[0;34m[\u001b[0m\u001b[0mi\u001b[0m\u001b[0;34m]\u001b[0m\u001b[0;34m)\u001b[0m\u001b[0;34m\u001b[0m\u001b[0;34m\u001b[0m\u001b[0m\n\u001b[1;32m    121\u001b[0m                             \u001b[0mtemp\u001b[0m\u001b[0;34m.\u001b[0m\u001b[0mappend\u001b[0m\u001b[0;34m(\u001b[0m\u001b[0mtem\u001b[0m\u001b[0;34m[\u001b[0m\u001b[0mi\u001b[0m\u001b[0;34m]\u001b[0m\u001b[0;34m)\u001b[0m\u001b[0;34m\u001b[0m\u001b[0;34m\u001b[0m\u001b[0m\n",
      "\u001b[0;31mIndexError\u001b[0m: list index out of range"
     ]
    }
   ],
   "source": [
    "from urllib.request import Request, urlopen\n",
    "from bs4 import BeautifulSoup\n",
    "import requests\n",
    "import json\n",
    "\n",
    "def get_html(url):\n",
    "    response = requests.get(url)\n",
    "    return response.text\n",
    "\n",
    "def get_all_links(html):\n",
    "    soup = BeautifulSoup(html, features=\"html.parser\")\n",
    "    links = []\n",
    "    tds = soup.find_all('h4', {'class':'ipsDataItem_title ipsType_large ipsType_break'})\n",
    "    for td in tds:\n",
    "        p = td.find_all('a')\n",
    "        for q in p:\n",
    "            links.append(q['href'])\n",
    "    return links\n",
    "\n",
    "# def get_all_links_on_page(html, link):\n",
    "#     soup = BeautifulSoup(html, features=\"html.parser\")\n",
    "#     tds = soup.find_all('tr')\n",
    "#     for td in tds:\n",
    "#         i = td.find('td', {'class':'td-block'})\n",
    "#         if i != None:\n",
    "#             return(i.find_all('a')[-1].text)\n",
    "    \n",
    "def get_links(html, link):\n",
    "    soup = BeautifulSoup(html, features=\"html.parser\")\n",
    "    links = []\n",
    "    tds = soup.find_all('li', {'class':'ipsPagination_page'})\n",
    "    for td in tds:\n",
    "        p = td.find_all('a')\n",
    "        for q in p:\n",
    "            if link in q['href']:\n",
    "                links.append(q['href'])\n",
    "    if len(links) == 0:\n",
    "        return [link]\n",
    "    return sorted(list(set(links)))\n",
    "\n",
    "def get_all_links_one_theme(html):\n",
    "    soup = BeautifulSoup(html, features=\"html.parser\")\n",
    "    links = []\n",
    "    tds = soup.find_all('h4', {'class':'ipsDataItem_title ipsType_break'})\n",
    "    for td in tds:\n",
    "        p = td.find_all('a')\n",
    "        for q in p:\n",
    "            links.append(q['href'])\n",
    "    return links\n",
    "\n",
    "def get_page_data(html):\n",
    "    soup = BeautifulSoup(urlopen(str(html.encode('utf-8'))[2:-1]), features=\"html.parser\")\n",
    "\n",
    "    # user\n",
    "    tds = soup.find_all('strong', 'itemprop'==\"name\")\n",
    "    users = []\n",
    "    for td in tds:\n",
    "        if 'Изменено' not in td.text:\n",
    "            users.append(td.text)\n",
    "#     print(users)\n",
    "\n",
    "\n",
    "    # time\n",
    "    tds = soup.find_all('p', {'class':\"ipsType_reset\"})\n",
    "    times = []\n",
    "    for td in tds:\n",
    "        if 'Опубликовано' in td.text:\n",
    "            times.append(td.text)\n",
    "#     print(times)\n",
    "\n",
    "\n",
    "    # text\n",
    "    tds = soup.find_all('div', {'class':'ipsType_normal ipsType_richText ipsContained'})\n",
    "    tex = []\n",
    "    for td in tds: \n",
    "        if td.find('blockquote') != None:\n",
    "            p = td.find_all('p')\n",
    "            tex.append(p[-1].text)\n",
    "        else:\n",
    "            tex.append(td.text)\n",
    "#     print(tex)\n",
    "    \n",
    "\n",
    "    # quote\n",
    "    tds = soup.find_all('div', {'class':'ipsType_normal ipsType_richText ipsContained'})\n",
    "    temp = []\n",
    "    for td in tds: \n",
    "        if td.find('blockquote') != None:\n",
    "            p = td.find('div', {'class':\"ipsQuote_contents\"})\n",
    "            if p is not None:\n",
    "                temp.append(p.text)\n",
    "        else:\n",
    "            temp.append('')\n",
    "#     print(temp)\n",
    "\n",
    "    data = ({'user': users,                    \n",
    "             'time': times,      \n",
    "             'text': tex,            \n",
    "             'quote': temp,          \n",
    "             'topic': ['Beauty'] * len(users)\n",
    "            })          \n",
    "    return users, times, tex, temp, ['Beauty'] * len(users)#data\n",
    "\n",
    "def page_content(all_links, table):\n",
    "    for link in tqdm(all_links):\n",
    "        links = get_links(get_html(link), link)\n",
    "        for l in links:\n",
    "            all_links_one_theme = get_all_links_one_theme(get_html(l))\n",
    "            for t in tqdm(all_links_one_theme):\n",
    "                page = get_links(get_html(t), t)\n",
    "                for p in page:\n",
    "                    if 'search' not in str(p):\n",
    "                        print(p)\n",
    "                        us, ti, te, tem, l = get_page_data(p)\n",
    "                        for i in range(len(us)):\n",
    "                            if i > 5:\n",
    "                                break\n",
    "                            users.append(us[i])\n",
    "                            times.append(ti[i])\n",
    "                            tex.append(te[i])\n",
    "                            temp.append(tem[i])\n",
    "                            labels.append(l[i])\n",
    "\n",
    "table = pd.DataFrame(columns={'users', 'times', 'text', 'quote', 'topic'})\n",
    "users = []\n",
    "times = []\n",
    "tex = []\n",
    "temp = []\n",
    "labels = []\n",
    "    \n",
    "url = 'https://womantalks.ru/forum/11-sekretyi-krasotyi/'\n",
    "\n",
    "all_links = get_all_links(get_html(url))\n",
    "page_content(all_links, table)\n",
    "\n",
    "table.loc[:, 'users'] = users\n",
    "table.loc[:, 'times'] = times\n",
    "table.loc[:, 'text'] = tex\n",
    "table.loc[:, 'quote'] = temp\n",
    "table.loc[:, 'topic'] = labels"
   ]
  },
  {
   "cell_type": "code",
   "execution_count": 100,
   "metadata": {
    "scrolled": true
   },
   "outputs": [
    {
     "data": {
      "text/plain": [
       "793"
      ]
     },
     "execution_count": 100,
     "metadata": {},
     "output_type": "execute_result"
    }
   ],
   "source": [
    "len(users)"
   ]
  },
  {
   "cell_type": "code",
   "execution_count": 69,
   "metadata": {},
   "outputs": [
    {
     "data": {
      "text/plain": [
       "793"
      ]
     },
     "execution_count": 69,
     "metadata": {},
     "output_type": "execute_result"
    }
   ],
   "source": [
    "len(times)"
   ]
  },
  {
   "cell_type": "code",
   "execution_count": 70,
   "metadata": {},
   "outputs": [
    {
     "data": {
      "text/plain": [
       "793"
      ]
     },
     "execution_count": 70,
     "metadata": {},
     "output_type": "execute_result"
    }
   ],
   "source": [
    "len(tex)"
   ]
  },
  {
   "cell_type": "code",
   "execution_count": 71,
   "metadata": {},
   "outputs": [
    {
     "data": {
      "text/plain": [
       "793"
      ]
     },
     "execution_count": 71,
     "metadata": {},
     "output_type": "execute_result"
    }
   ],
   "source": [
    "len(temp)"
   ]
  },
  {
   "cell_type": "code",
   "execution_count": 72,
   "metadata": {},
   "outputs": [
    {
     "data": {
      "text/plain": [
       "793"
      ]
     },
     "execution_count": 72,
     "metadata": {},
     "output_type": "execute_result"
    }
   ],
   "source": [
    "len(labels)"
   ]
  },
  {
   "cell_type": "code",
   "execution_count": 81,
   "metadata": {},
   "outputs": [],
   "source": [
    "table.loc[:, 'users'] = users\n",
    "table.loc[:, 'times'] = times\n",
    "table.loc[:, 'text'] = tex\n",
    "table.loc[:, 'quote'] = temp\n",
    "table.loc[:, 'topic'] = labels"
   ]
  },
  {
   "cell_type": "code",
   "execution_count": 82,
   "metadata": {},
   "outputs": [
    {
     "data": {
      "text/html": [
       "<div>\n",
       "<style scoped>\n",
       "    .dataframe tbody tr th:only-of-type {\n",
       "        vertical-align: middle;\n",
       "    }\n",
       "\n",
       "    .dataframe tbody tr th {\n",
       "        vertical-align: top;\n",
       "    }\n",
       "\n",
       "    .dataframe thead th {\n",
       "        text-align: right;\n",
       "    }\n",
       "</style>\n",
       "<table border=\"1\" class=\"dataframe\">\n",
       "  <thead>\n",
       "    <tr style=\"text-align: right;\">\n",
       "      <th></th>\n",
       "      <th>users</th>\n",
       "      <th>times</th>\n",
       "      <th>text</th>\n",
       "      <th>quote</th>\n",
       "      <th>topic</th>\n",
       "    </tr>\n",
       "  </thead>\n",
       "  <tbody>\n",
       "    <tr>\n",
       "      <th>0</th>\n",
       "      <td>\\nwomantalks.ru</td>\n",
       "      <td>\\nОпубликовано: 5 сен 2015\\n</td>\n",
       "      <td>\\n\\r\\n\\tКудри издавна считались особым элемент...</td>\n",
       "      <td></td>\n",
       "      <td>Beauty</td>\n",
       "    </tr>\n",
       "    <tr>\n",
       "      <th>1</th>\n",
       "      <td>\\nКиана</td>\n",
       "      <td>\\nОпубликовано: 19 май 2016\\n</td>\n",
       "      <td>\\n\\n\\tВсе время делаю себе кудри именно утюжко...</td>\n",
       "      <td></td>\n",
       "      <td>Beauty</td>\n",
       "    </tr>\n",
       "    <tr>\n",
       "      <th>2</th>\n",
       "      <td>\\nelenavolk</td>\n",
       "      <td>\\nОпубликовано: 22 май 2016\\n</td>\n",
       "      <td>\\n\\n\\tкрасиво то как, и я так хочу)\\n\\n</td>\n",
       "      <td></td>\n",
       "      <td>Beauty</td>\n",
       "    </tr>\n",
       "    <tr>\n",
       "      <th>3</th>\n",
       "      <td>\\nlena.a</td>\n",
       "      <td>\\nОпубликовано: 24 май 2016\\n</td>\n",
       "      <td>\\n\\n\\tкрасиво, но волосы портятся будь здоров)...</td>\n",
       "      <td></td>\n",
       "      <td>Beauty</td>\n",
       "    </tr>\n",
       "    <tr>\n",
       "      <th>4</th>\n",
       "      <td>\\nЛасковая</td>\n",
       "      <td>\\nОпубликовано: 27 авг 2016\\n</td>\n",
       "      <td>\\n\\n\\tЭто точно, от плоек и утюжков волосы сил...</td>\n",
       "      <td></td>\n",
       "      <td>Beauty</td>\n",
       "    </tr>\n",
       "    <tr>\n",
       "      <th>...</th>\n",
       "      <td>...</td>\n",
       "      <td>...</td>\n",
       "      <td>...</td>\n",
       "      <td>...</td>\n",
       "      <td>...</td>\n",
       "    </tr>\n",
       "    <tr>\n",
       "      <th>788</th>\n",
       "      <td>\\nfarovskayaoksana</td>\n",
       "      <td>\\nОпубликовано: 27 май 2018\\n</td>\n",
       "      <td>\\n\\n\\tМне очень здорово серия серацин помогает...</td>\n",
       "      <td></td>\n",
       "      <td>Beauty</td>\n",
       "    </tr>\n",
       "    <tr>\n",
       "      <th>789</th>\n",
       "      <td>\\nГалина</td>\n",
       "      <td>\\nОпубликовано: 17 июл 2019\\n</td>\n",
       "      <td>\\n\\n\\tПро ПП лекции читать не собираюсь, но эт...</td>\n",
       "      <td></td>\n",
       "      <td>Beauty</td>\n",
       "    </tr>\n",
       "    <tr>\n",
       "      <th>790</th>\n",
       "      <td>по моему при прыщах скрабить лицо не стоит. Пр...</td>\n",
       "      <td>\\nОпубликовано: 16 дек 2019\\n</td>\n",
       "      <td>\\n\\nпо моему при прыщах скрабить лицо не стоит...</td>\n",
       "      <td></td>\n",
       "      <td>Beauty</td>\n",
       "    </tr>\n",
       "    <tr>\n",
       "      <th>791</th>\n",
       "      <td>\\nnadin-er</td>\n",
       "      <td>\\nОпубликовано: 25 май 2020\\n</td>\n",
       "      <td>\\n\\n\\tу дочки на лице угри пошли. Хоть и следи...</td>\n",
       "      <td></td>\n",
       "      <td>Beauty</td>\n",
       "    </tr>\n",
       "    <tr>\n",
       "      <th>792</th>\n",
       "      <td>\\nnadin-er</td>\n",
       "      <td>\\nОпубликовано: 25 май 2020\\n</td>\n",
       "      <td>\\n\\tа он не совсем для взрослых? Если это анти...</td>\n",
       "      <td>\\n\\n\\t\\t\\tэто подростковое, тут курс лечения д...</td>\n",
       "      <td>Beauty</td>\n",
       "    </tr>\n",
       "  </tbody>\n",
       "</table>\n",
       "<p>793 rows × 5 columns</p>\n",
       "</div>"
      ],
      "text/plain": [
       "                                                 users  \\\n",
       "0                                      \\nwomantalks.ru   \n",
       "1                                              \\nКиана   \n",
       "2                                          \\nelenavolk   \n",
       "3                                             \\nlena.a   \n",
       "4                                           \\nЛасковая   \n",
       "..                                                 ...   \n",
       "788                                 \\nfarovskayaoksana   \n",
       "789                                           \\nГалина   \n",
       "790  по моему при прыщах скрабить лицо не стоит. Пр...   \n",
       "791                                         \\nnadin-er   \n",
       "792                                         \\nnadin-er   \n",
       "\n",
       "                             times  \\\n",
       "0     \\nОпубликовано: 5 сен 2015\\n   \n",
       "1    \\nОпубликовано: 19 май 2016\\n   \n",
       "2    \\nОпубликовано: 22 май 2016\\n   \n",
       "3    \\nОпубликовано: 24 май 2016\\n   \n",
       "4    \\nОпубликовано: 27 авг 2016\\n   \n",
       "..                             ...   \n",
       "788  \\nОпубликовано: 27 май 2018\\n   \n",
       "789  \\nОпубликовано: 17 июл 2019\\n   \n",
       "790  \\nОпубликовано: 16 дек 2019\\n   \n",
       "791  \\nОпубликовано: 25 май 2020\\n   \n",
       "792  \\nОпубликовано: 25 май 2020\\n   \n",
       "\n",
       "                                                  text  \\\n",
       "0    \\n\\r\\n\\tКудри издавна считались особым элемент...   \n",
       "1    \\n\\n\\tВсе время делаю себе кудри именно утюжко...   \n",
       "2              \\n\\n\\tкрасиво то как, и я так хочу)\\n\\n   \n",
       "3    \\n\\n\\tкрасиво, но волосы портятся будь здоров)...   \n",
       "4    \\n\\n\\tЭто точно, от плоек и утюжков волосы сил...   \n",
       "..                                                 ...   \n",
       "788  \\n\\n\\tМне очень здорово серия серацин помогает...   \n",
       "789  \\n\\n\\tПро ПП лекции читать не собираюсь, но эт...   \n",
       "790  \\n\\nпо моему при прыщах скрабить лицо не стоит...   \n",
       "791  \\n\\n\\tу дочки на лице угри пошли. Хоть и следи...   \n",
       "792  \\n\\tа он не совсем для взрослых? Если это анти...   \n",
       "\n",
       "                                                 quote   topic  \n",
       "0                                                       Beauty  \n",
       "1                                                       Beauty  \n",
       "2                                                       Beauty  \n",
       "3                                                       Beauty  \n",
       "4                                                       Beauty  \n",
       "..                                                 ...     ...  \n",
       "788                                                     Beauty  \n",
       "789                                                     Beauty  \n",
       "790                                                     Beauty  \n",
       "791                                                     Beauty  \n",
       "792  \\n\\n\\t\\t\\tэто подростковое, тут курс лечения д...  Beauty  \n",
       "\n",
       "[793 rows x 5 columns]"
      ]
     },
     "execution_count": 82,
     "metadata": {},
     "output_type": "execute_result"
    }
   ],
   "source": [
    "table[['users', 'times', 'text', 'quote', 'topic']]"
   ]
  },
  {
   "cell_type": "code",
   "execution_count": 93,
   "metadata": {},
   "outputs": [
    {
     "data": {
      "text/html": [
       "<div>\n",
       "<style scoped>\n",
       "    .dataframe tbody tr th:only-of-type {\n",
       "        vertical-align: middle;\n",
       "    }\n",
       "\n",
       "    .dataframe tbody tr th {\n",
       "        vertical-align: top;\n",
       "    }\n",
       "\n",
       "    .dataframe thead th {\n",
       "        text-align: right;\n",
       "    }\n",
       "</style>\n",
       "<table border=\"1\" class=\"dataframe\">\n",
       "  <thead>\n",
       "    <tr style=\"text-align: right;\">\n",
       "      <th></th>\n",
       "      <th>users</th>\n",
       "      <th>times</th>\n",
       "      <th>text</th>\n",
       "      <th>topic</th>\n",
       "      <th>quote</th>\n",
       "    </tr>\n",
       "  </thead>\n",
       "  <tbody>\n",
       "    <tr>\n",
       "      <th>0</th>\n",
       "      <td>\\nwomantalks.ru</td>\n",
       "      <td>\\nОпубликовано: 5 сен 2015\\n</td>\n",
       "      <td>\\n\\r\\n\\tКудри издавна считались особым элемент...</td>\n",
       "      <td>Beauty</td>\n",
       "      <td></td>\n",
       "    </tr>\n",
       "    <tr>\n",
       "      <th>1</th>\n",
       "      <td>\\nКиана</td>\n",
       "      <td>\\nОпубликовано: 19 май 2016\\n</td>\n",
       "      <td>\\n\\n\\tВсе время делаю себе кудри именно утюжко...</td>\n",
       "      <td>Beauty</td>\n",
       "      <td></td>\n",
       "    </tr>\n",
       "    <tr>\n",
       "      <th>2</th>\n",
       "      <td>\\nelenavolk</td>\n",
       "      <td>\\nОпубликовано: 22 май 2016\\n</td>\n",
       "      <td>\\n\\n\\tкрасиво то как, и я так хочу)\\n\\n</td>\n",
       "      <td>Beauty</td>\n",
       "      <td></td>\n",
       "    </tr>\n",
       "    <tr>\n",
       "      <th>3</th>\n",
       "      <td>\\nlena.a</td>\n",
       "      <td>\\nОпубликовано: 24 май 2016\\n</td>\n",
       "      <td>\\n\\n\\tкрасиво, но волосы портятся будь здоров)...</td>\n",
       "      <td>Beauty</td>\n",
       "      <td></td>\n",
       "    </tr>\n",
       "    <tr>\n",
       "      <th>4</th>\n",
       "      <td>\\nЛасковая</td>\n",
       "      <td>\\nОпубликовано: 27 авг 2016\\n</td>\n",
       "      <td>\\n\\n\\tЭто точно, от плоек и утюжков волосы сил...</td>\n",
       "      <td>Beauty</td>\n",
       "      <td></td>\n",
       "    </tr>\n",
       "    <tr>\n",
       "      <th>...</th>\n",
       "      <td>...</td>\n",
       "      <td>...</td>\n",
       "      <td>...</td>\n",
       "      <td>...</td>\n",
       "      <td>...</td>\n",
       "    </tr>\n",
       "    <tr>\n",
       "      <th>787</th>\n",
       "      <td>\\nВалерия Соломонова</td>\n",
       "      <td>\\nОпубликовано: 17 апр 2018\\n</td>\n",
       "      <td>\\n\\n\\tтут спор про ретасол вышел, тоже хочу св...</td>\n",
       "      <td>Beauty</td>\n",
       "      <td></td>\n",
       "    </tr>\n",
       "    <tr>\n",
       "      <th>788</th>\n",
       "      <td>\\nfarovskayaoksana</td>\n",
       "      <td>\\nОпубликовано: 27 май 2018\\n</td>\n",
       "      <td>\\n\\n\\tМне очень здорово серия серацин помогает...</td>\n",
       "      <td>Beauty</td>\n",
       "      <td></td>\n",
       "    </tr>\n",
       "    <tr>\n",
       "      <th>789</th>\n",
       "      <td>\\nГалина</td>\n",
       "      <td>\\nОпубликовано: 17 июл 2019\\n</td>\n",
       "      <td>\\n\\n\\tПро ПП лекции читать не собираюсь, но эт...</td>\n",
       "      <td>Beauty</td>\n",
       "      <td></td>\n",
       "    </tr>\n",
       "    <tr>\n",
       "      <th>790</th>\n",
       "      <td>\\nnadin-er</td>\n",
       "      <td>\\nОпубликовано: 25 май 2020\\n</td>\n",
       "      <td>\\n\\n\\tу дочки на лице угри пошли. Хоть и следи...</td>\n",
       "      <td>Beauty</td>\n",
       "      <td></td>\n",
       "    </tr>\n",
       "    <tr>\n",
       "      <th>791</th>\n",
       "      <td>\\nnadin-er</td>\n",
       "      <td>\\nОпубликовано: 25 май 2020\\n</td>\n",
       "      <td>\\n\\tа он не совсем для взрослых? Если это анти...</td>\n",
       "      <td>Beauty</td>\n",
       "      <td>\\n\\n\\t\\t\\tэто подростковое, тут курс лечения д...</td>\n",
       "    </tr>\n",
       "  </tbody>\n",
       "</table>\n",
       "<p>792 rows × 5 columns</p>\n",
       "</div>"
      ],
      "text/plain": [
       "                    users                          times  \\\n",
       "0         \\nwomantalks.ru   \\nОпубликовано: 5 сен 2015\\n   \n",
       "1                 \\nКиана  \\nОпубликовано: 19 май 2016\\n   \n",
       "2             \\nelenavolk  \\nОпубликовано: 22 май 2016\\n   \n",
       "3                \\nlena.a  \\nОпубликовано: 24 май 2016\\n   \n",
       "4              \\nЛасковая  \\nОпубликовано: 27 авг 2016\\n   \n",
       "..                    ...                            ...   \n",
       "787  \\nВалерия Соломонова  \\nОпубликовано: 17 апр 2018\\n   \n",
       "788    \\nfarovskayaoksana  \\nОпубликовано: 27 май 2018\\n   \n",
       "789              \\nГалина  \\nОпубликовано: 17 июл 2019\\n   \n",
       "790            \\nnadin-er  \\nОпубликовано: 25 май 2020\\n   \n",
       "791            \\nnadin-er  \\nОпубликовано: 25 май 2020\\n   \n",
       "\n",
       "                                                  text   topic  \\\n",
       "0    \\n\\r\\n\\tКудри издавна считались особым элемент...  Beauty   \n",
       "1    \\n\\n\\tВсе время делаю себе кудри именно утюжко...  Beauty   \n",
       "2              \\n\\n\\tкрасиво то как, и я так хочу)\\n\\n  Beauty   \n",
       "3    \\n\\n\\tкрасиво, но волосы портятся будь здоров)...  Beauty   \n",
       "4    \\n\\n\\tЭто точно, от плоек и утюжков волосы сил...  Beauty   \n",
       "..                                                 ...     ...   \n",
       "787  \\n\\n\\tтут спор про ретасол вышел, тоже хочу св...  Beauty   \n",
       "788  \\n\\n\\tМне очень здорово серия серацин помогает...  Beauty   \n",
       "789  \\n\\n\\tПро ПП лекции читать не собираюсь, но эт...  Beauty   \n",
       "790  \\n\\n\\tу дочки на лице угри пошли. Хоть и следи...  Beauty   \n",
       "791  \\n\\tа он не совсем для взрослых? Если это анти...  Beauty   \n",
       "\n",
       "                                                 quote  \n",
       "0                                                       \n",
       "1                                                       \n",
       "2                                                       \n",
       "3                                                       \n",
       "4                                                       \n",
       "..                                                 ...  \n",
       "787                                                     \n",
       "788                                                     \n",
       "789                                                     \n",
       "790                                                     \n",
       "791  \\n\\n\\t\\t\\tэто подростковое, тут курс лечения д...  \n",
       "\n",
       "[792 rows x 5 columns]"
      ]
     },
     "execution_count": 93,
     "metadata": {},
     "output_type": "execute_result"
    }
   ],
   "source": [
    "table"
   ]
  },
  {
   "cell_type": "code",
   "execution_count": 94,
   "metadata": {},
   "outputs": [],
   "source": [
    "table.to_csv('Beauty_woman_talks_Copy1.csv', index=False)"
   ]
  },
  {
   "cell_type": "code",
   "execution_count": 3,
   "metadata": {},
   "outputs": [
    {
     "data": {
      "text/html": [
       "<div>\n",
       "<style scoped>\n",
       "    .dataframe tbody tr th:only-of-type {\n",
       "        vertical-align: middle;\n",
       "    }\n",
       "\n",
       "    .dataframe tbody tr th {\n",
       "        vertical-align: top;\n",
       "    }\n",
       "\n",
       "    .dataframe thead th {\n",
       "        text-align: right;\n",
       "    }\n",
       "</style>\n",
       "<table border=\"1\" class=\"dataframe\">\n",
       "  <thead>\n",
       "    <tr style=\"text-align: right;\">\n",
       "      <th></th>\n",
       "      <th>users</th>\n",
       "      <th>times</th>\n",
       "      <th>text</th>\n",
       "      <th>topic</th>\n",
       "      <th>quote</th>\n",
       "    </tr>\n",
       "  </thead>\n",
       "  <tbody>\n",
       "    <tr>\n",
       "      <th>0</th>\n",
       "      <td>\\nwomantalks.ru</td>\n",
       "      <td>\\nОпубликовано: 5 сен 2015\\n</td>\n",
       "      <td>\\n\\r\\n\\tКудри издавна считались особым элемент...</td>\n",
       "      <td>Beauty</td>\n",
       "      <td>NaN</td>\n",
       "    </tr>\n",
       "    <tr>\n",
       "      <th>1</th>\n",
       "      <td>\\nКиана</td>\n",
       "      <td>\\nОпубликовано: 19 май 2016\\n</td>\n",
       "      <td>\\n\\n\\tВсе время делаю себе кудри именно утюжко...</td>\n",
       "      <td>Beauty</td>\n",
       "      <td>NaN</td>\n",
       "    </tr>\n",
       "    <tr>\n",
       "      <th>2</th>\n",
       "      <td>\\nelenavolk</td>\n",
       "      <td>\\nОпубликовано: 22 май 2016\\n</td>\n",
       "      <td>\\n\\n\\tкрасиво то как, и я так хочу)\\n\\n</td>\n",
       "      <td>Beauty</td>\n",
       "      <td>NaN</td>\n",
       "    </tr>\n",
       "    <tr>\n",
       "      <th>3</th>\n",
       "      <td>\\nlena.a</td>\n",
       "      <td>\\nОпубликовано: 24 май 2016\\n</td>\n",
       "      <td>\\n\\n\\tкрасиво, но волосы портятся будь здоров)...</td>\n",
       "      <td>Beauty</td>\n",
       "      <td>NaN</td>\n",
       "    </tr>\n",
       "    <tr>\n",
       "      <th>4</th>\n",
       "      <td>\\nЛасковая</td>\n",
       "      <td>\\nОпубликовано: 27 авг 2016\\n</td>\n",
       "      <td>\\n\\n\\tЭто точно, от плоек и утюжков волосы сил...</td>\n",
       "      <td>Beauty</td>\n",
       "      <td>NaN</td>\n",
       "    </tr>\n",
       "    <tr>\n",
       "      <th>...</th>\n",
       "      <td>...</td>\n",
       "      <td>...</td>\n",
       "      <td>...</td>\n",
       "      <td>...</td>\n",
       "      <td>...</td>\n",
       "    </tr>\n",
       "    <tr>\n",
       "      <th>787</th>\n",
       "      <td>\\nВалерия Соломонова</td>\n",
       "      <td>\\nОпубликовано: 17 апр 2018\\n</td>\n",
       "      <td>\\n\\n\\tтут спор про ретасол вышел, тоже хочу св...</td>\n",
       "      <td>Beauty</td>\n",
       "      <td>NaN</td>\n",
       "    </tr>\n",
       "    <tr>\n",
       "      <th>788</th>\n",
       "      <td>\\nfarovskayaoksana</td>\n",
       "      <td>\\nОпубликовано: 27 май 2018\\n</td>\n",
       "      <td>\\n\\n\\tМне очень здорово серия серацин помогает...</td>\n",
       "      <td>Beauty</td>\n",
       "      <td>NaN</td>\n",
       "    </tr>\n",
       "    <tr>\n",
       "      <th>789</th>\n",
       "      <td>\\nГалина</td>\n",
       "      <td>\\nОпубликовано: 17 июл 2019\\n</td>\n",
       "      <td>\\n\\n\\tПро ПП лекции читать не собираюсь, но эт...</td>\n",
       "      <td>Beauty</td>\n",
       "      <td>NaN</td>\n",
       "    </tr>\n",
       "    <tr>\n",
       "      <th>790</th>\n",
       "      <td>\\nnadin-er</td>\n",
       "      <td>\\nОпубликовано: 25 май 2020\\n</td>\n",
       "      <td>\\n\\n\\tу дочки на лице угри пошли. Хоть и следи...</td>\n",
       "      <td>Beauty</td>\n",
       "      <td>NaN</td>\n",
       "    </tr>\n",
       "    <tr>\n",
       "      <th>791</th>\n",
       "      <td>\\nnadin-er</td>\n",
       "      <td>\\nОпубликовано: 25 май 2020\\n</td>\n",
       "      <td>\\n\\tа он не совсем для взрослых? Если это анти...</td>\n",
       "      <td>Beauty</td>\n",
       "      <td>\\n\\n\\t\\t\\tэто подростковое, тут курс лечения д...</td>\n",
       "    </tr>\n",
       "  </tbody>\n",
       "</table>\n",
       "<p>792 rows × 5 columns</p>\n",
       "</div>"
      ],
      "text/plain": [
       "                    users                          times  \\\n",
       "0         \\nwomantalks.ru   \\nОпубликовано: 5 сен 2015\\n   \n",
       "1                 \\nКиана  \\nОпубликовано: 19 май 2016\\n   \n",
       "2             \\nelenavolk  \\nОпубликовано: 22 май 2016\\n   \n",
       "3                \\nlena.a  \\nОпубликовано: 24 май 2016\\n   \n",
       "4              \\nЛасковая  \\nОпубликовано: 27 авг 2016\\n   \n",
       "..                    ...                            ...   \n",
       "787  \\nВалерия Соломонова  \\nОпубликовано: 17 апр 2018\\n   \n",
       "788    \\nfarovskayaoksana  \\nОпубликовано: 27 май 2018\\n   \n",
       "789              \\nГалина  \\nОпубликовано: 17 июл 2019\\n   \n",
       "790            \\nnadin-er  \\nОпубликовано: 25 май 2020\\n   \n",
       "791            \\nnadin-er  \\nОпубликовано: 25 май 2020\\n   \n",
       "\n",
       "                                                  text   topic  \\\n",
       "0    \\n\\r\\n\\tКудри издавна считались особым элемент...  Beauty   \n",
       "1    \\n\\n\\tВсе время делаю себе кудри именно утюжко...  Beauty   \n",
       "2              \\n\\n\\tкрасиво то как, и я так хочу)\\n\\n  Beauty   \n",
       "3    \\n\\n\\tкрасиво, но волосы портятся будь здоров)...  Beauty   \n",
       "4    \\n\\n\\tЭто точно, от плоек и утюжков волосы сил...  Beauty   \n",
       "..                                                 ...     ...   \n",
       "787  \\n\\n\\tтут спор про ретасол вышел, тоже хочу св...  Beauty   \n",
       "788  \\n\\n\\tМне очень здорово серия серацин помогает...  Beauty   \n",
       "789  \\n\\n\\tПро ПП лекции читать не собираюсь, но эт...  Beauty   \n",
       "790  \\n\\n\\tу дочки на лице угри пошли. Хоть и следи...  Beauty   \n",
       "791  \\n\\tа он не совсем для взрослых? Если это анти...  Beauty   \n",
       "\n",
       "                                                 quote  \n",
       "0                                                  NaN  \n",
       "1                                                  NaN  \n",
       "2                                                  NaN  \n",
       "3                                                  NaN  \n",
       "4                                                  NaN  \n",
       "..                                                 ...  \n",
       "787                                                NaN  \n",
       "788                                                NaN  \n",
       "789                                                NaN  \n",
       "790                                                NaN  \n",
       "791  \\n\\n\\t\\t\\tэто подростковое, тут курс лечения д...  \n",
       "\n",
       "[792 rows x 5 columns]"
      ]
     },
     "execution_count": 3,
     "metadata": {},
     "output_type": "execute_result"
    }
   ],
   "source": [
    "D = pd.read_csv('Beauty_woman_talks_Copy1.csv')\n",
    "D"
   ]
  },
  {
   "cell_type": "code",
   "execution_count": 13,
   "metadata": {},
   "outputs": [],
   "source": [
    "import re"
   ]
  },
  {
   "cell_type": "code",
   "execution_count": 19,
   "metadata": {},
   "outputs": [
    {
     "data": {
      "text/plain": [
       "'\\n\\r\\n\\tКудри издавна считались особым элементом прически. Они вселяют невинность в образ, а также нежность и беззаботность. В некоторых случаях обольщения мужских сердец и глаз, без этого компонента попросту не обойтись. Однако многие девушки сталкиваются с вопросом: как их сделать правильно? Иногда достигнуть нужного результата не позволяет жесткость волоса. Профессиональный женский блог\\xa0«Мюсли» сделал подборку самых эффективных методов.\\xa0\\r\\n\\tМетоды завивки волос в кудри\\xa0\\r\\n\\n\\r\\n\\tЗа всю историю, женская половина человечества накопила богатый опыт в завивке волос, создавая самые разные и причудливые рецепты. Некоторые из них канули в лета, а другие по-прежнему применяются и с большим успехом! Главное – следовать инструкциям, о которых подробно пишется на Mjusli.ru. Тогда и результат будет вполне эффектным. Самые популярные методы:\\xa0\\r\\n\\n\\r\\n\\t\\tплойка – самый распространенный способ. Выбирайте диаметр плойки по принципу, чем меньше длина волоса, тем уже диаметр инструмента. Лучший вариант – с турмалиновым покрытием;\\xa0\\r\\n\\t\\n\\r\\n\\t\\tбигуди. Нынешний ассортимент также разнообразен. Если нужны пышные волосы у самого основания, то выбирайте «ежиков», а вот на длинные волосы локоны сделают коклюшки;\\xa0\\r\\n\\t\\n\\r\\n\\t\\tметод косички – самый простой и безопасный, поскольку не травмирует волос. Для этого нанесите мусс на волосы, заплетите косичку, а затем распустите и подправьте локоны;\\xa0\\r\\n\\t\\n\\r\\n\\t\\tнемного сложнее, но вполне осуществимо – создание локонов при помощи утюжка. Однако придется наловчиться с этой методикой, и при этом не сжечь структуру волос.\\xa0\\r\\n\\t\\n\\n\\n\\n\\r\\n\\tЗнают, как сделать кудри утюжком\\xa0быстро, немногие. Большинство женщин могут убить на эту процедуру долгие часы. Но при правильном подходе, эффект получится впечатляющим. Особенно, если речь идет о создании кудрей на длинный волос. Женщинам с короткой стрижкой не рекомендуется прибегать к данной методике – она изначально обречена на провал.\\xa0\\r\\n\\tНесколько советов для тех, кто делает кудри\\xa0\\r\\n\\n\\r\\n\\tПомните, что делать кудри на грязные волосы – это «пошло». Во-первых, они не будут принимать нужную вам форму, а во-вторых, это будет смотреться, как слипнувшийся комок, напоминающий едва ли спираль. Перед тем, как использовать нагревательные инструменты (плойки и утюжки) тщательно сушите волосы.\\xa0\\r\\n\\tНе следует также наносить мусс и гели на волосы, если вы завиваете кудри плойками. Это обожжет ваши волосы, создаст неприятный запах и повредит их структуру. Не думайте, что обилие лака и других фиксирующих средств закрепит ваши локоны и кудри. Напротив, их тяжелый вес будет тянуть, что разрушит прическу очень быстро!\\xa0\\r\\n\\n'"
      ]
     },
     "execution_count": 19,
     "metadata": {},
     "output_type": "execute_result"
    }
   ],
   "source": [
    "D.iloc[0]['text']"
   ]
  },
  {
   "cell_type": "code",
   "execution_count": 20,
   "metadata": {},
   "outputs": [
    {
     "data": {
      "text/plain": [
       "'Кудри издавна считались особым элементом прически. Они вселяют невинность в образ, а также нежность и беззаботность. В некоторых случаях обольщения мужских сердец и глаз, без этого компонента попросту не обойтись. Однако многие девушки сталкиваются с вопросом: как их сделать правильно? Иногда достигнуть нужного результата не позволяет жесткость волоса. Профессиональный женский блог«Мюсли» сделал подборку самых эффективных методов.Методы завивки волос в кудриЗа всю историю, женская половина человечества накопила богатый опыт в завивке волос, создавая самые разные и причудливые рецепты. Некоторые из них канули в лета, а другие по-прежнему применяются и с большим успехом! Главное – следовать инструкциям, о которых подробно пишется на Mjusli.ru. Тогда и результат будет вполне эффектным. Самые популярные методы:плойка – самый распространенный способ. Выбирайте диаметр плойки по принципу, чем меньше длина волоса, тем уже диаметр инструмента. Лучший вариант – с турмалиновым покрытием;бигуди. Нынешний ассортимент также разнообразен. Если нужны пышные волосы у самого основания, то выбирайте «ежиков», а вот на длинные волосы локоны сделают коклюшки;метод косички – самый простой и безопасный, поскольку не травмирует волос. Для этого нанесите мусс на волосы, заплетите косичку, а затем распустите и подправьте локоны;немного сложнее, но вполне осуществимо – создание локонов при помощи утюжка. Однако придется наловчиться с этой методикой, и при этом не сжечь структуру волос.Знают, как сделать кудри утюжкомбыстро, немногие. Большинство женщин могут убить на эту процедуру долгие часы. Но при правильном подходе, эффект получится впечатляющим. Особенно, если речь идет о создании кудрей на длинный волос. Женщинам с короткой стрижкой не рекомендуется прибегать к данной методике – она изначально обречена на провал.Несколько советов для тех, кто делает кудриПомните, что делать кудри на грязные волосы – это «пошло». Во-первых, они не будут принимать нужную вам форму, а во-вторых, это будет смотреться, как слипнувшийся комок, напоминающий едва ли спираль. Перед тем, как использовать нагревательные инструменты (плойки и утюжки) тщательно сушите волосы.Не следует также наносить мусс и гели на волосы, если вы завиваете кудри плойками. Это обожжет ваши волосы, создаст неприятный запах и повредит их структуру. Не думайте, что обилие лака и других фиксирующих средств закрепит ваши локоны и кудри. Напротив, их тяжелый вес будет тянуть, что разрушит прическу очень быстро!'"
      ]
     },
     "execution_count": 20,
     "metadata": {},
     "output_type": "execute_result"
    }
   ],
   "source": [
    "re.sub(r'[\\n\\t\\r\\xa0]', '', D.iloc[0]['text'])"
   ]
  },
  {
   "cell_type": "code",
   "execution_count": 26,
   "metadata": {},
   "outputs": [],
   "source": [
    "D.loc[:, 'text'] = D.text.apply(lambda x: re.sub(r'[\\n\\t\\r\\xa0]', '', str(x)))"
   ]
  },
  {
   "cell_type": "code",
   "execution_count": 30,
   "metadata": {},
   "outputs": [],
   "source": [
    "D.loc[:, 'quote'] = D.quote.apply(lambda x: re.sub(r'[\\n\\t\\r\\xa0]', '', str(x)))"
   ]
  },
  {
   "cell_type": "code",
   "execution_count": 28,
   "metadata": {},
   "outputs": [],
   "source": [
    "D.loc[:, 'users'] = D.users.apply(lambda x: re.sub(r'[\\n\\t\\r\\xa0]', '', str(x)))"
   ]
  },
  {
   "cell_type": "code",
   "execution_count": 32,
   "metadata": {},
   "outputs": [],
   "source": [
    "D.loc[:, 'times'] = D.times.apply(lambda x: re.sub(r'[\\n\\t\\r\\xa0]', '', str(x)))"
   ]
  },
  {
   "cell_type": "code",
   "execution_count": 34,
   "metadata": {},
   "outputs": [],
   "source": [
    "D.loc[:, 'times'] = D.times.apply(lambda x: re.sub(r'Опубликовано: ', '', str(x)))"
   ]
  },
  {
   "cell_type": "code",
   "execution_count": 35,
   "metadata": {},
   "outputs": [
    {
     "data": {
      "text/html": [
       "<div>\n",
       "<style scoped>\n",
       "    .dataframe tbody tr th:only-of-type {\n",
       "        vertical-align: middle;\n",
       "    }\n",
       "\n",
       "    .dataframe tbody tr th {\n",
       "        vertical-align: top;\n",
       "    }\n",
       "\n",
       "    .dataframe thead th {\n",
       "        text-align: right;\n",
       "    }\n",
       "</style>\n",
       "<table border=\"1\" class=\"dataframe\">\n",
       "  <thead>\n",
       "    <tr style=\"text-align: right;\">\n",
       "      <th></th>\n",
       "      <th>users</th>\n",
       "      <th>times</th>\n",
       "      <th>text</th>\n",
       "      <th>topic</th>\n",
       "      <th>quote</th>\n",
       "    </tr>\n",
       "  </thead>\n",
       "  <tbody>\n",
       "    <tr>\n",
       "      <th>0</th>\n",
       "      <td>womantalks.ru</td>\n",
       "      <td>5 сен 2015</td>\n",
       "      <td>Кудри издавна считались особым элементом приче...</td>\n",
       "      <td>Beauty</td>\n",
       "      <td>nan</td>\n",
       "    </tr>\n",
       "    <tr>\n",
       "      <th>1</th>\n",
       "      <td>Киана</td>\n",
       "      <td>19 май 2016</td>\n",
       "      <td>Все время делаю себе кудри именно утюжком полу...</td>\n",
       "      <td>Beauty</td>\n",
       "      <td>nan</td>\n",
       "    </tr>\n",
       "    <tr>\n",
       "      <th>2</th>\n",
       "      <td>elenavolk</td>\n",
       "      <td>22 май 2016</td>\n",
       "      <td>красиво то как, и я так хочу)</td>\n",
       "      <td>Beauty</td>\n",
       "      <td>nan</td>\n",
       "    </tr>\n",
       "    <tr>\n",
       "      <th>3</th>\n",
       "      <td>lena.a</td>\n",
       "      <td>24 май 2016</td>\n",
       "      <td>красиво, но волосы портятся будь здоров)</td>\n",
       "      <td>Beauty</td>\n",
       "      <td>nan</td>\n",
       "    </tr>\n",
       "    <tr>\n",
       "      <th>4</th>\n",
       "      <td>Ласковая</td>\n",
       "      <td>27 авг 2016</td>\n",
       "      <td>Это точно, от плоек и утюжков волосы сильнее п...</td>\n",
       "      <td>Beauty</td>\n",
       "      <td>nan</td>\n",
       "    </tr>\n",
       "    <tr>\n",
       "      <th>...</th>\n",
       "      <td>...</td>\n",
       "      <td>...</td>\n",
       "      <td>...</td>\n",
       "      <td>...</td>\n",
       "      <td>...</td>\n",
       "    </tr>\n",
       "    <tr>\n",
       "      <th>787</th>\n",
       "      <td>Валерия Соломонова</td>\n",
       "      <td>17 апр 2018</td>\n",
       "      <td>тут спор про ретасол вышел, тоже хочу свое мне...</td>\n",
       "      <td>Beauty</td>\n",
       "      <td>nan</td>\n",
       "    </tr>\n",
       "    <tr>\n",
       "      <th>788</th>\n",
       "      <td>farovskayaoksana</td>\n",
       "      <td>27 май 2018</td>\n",
       "      <td>Мне очень здорово серия серацин помогает ) поп...</td>\n",
       "      <td>Beauty</td>\n",
       "      <td>nan</td>\n",
       "    </tr>\n",
       "    <tr>\n",
       "      <th>789</th>\n",
       "      <td>Галина</td>\n",
       "      <td>17 июл 2019</td>\n",
       "      <td>Про ПП лекции читать не собираюсь, но это прав...</td>\n",
       "      <td>Beauty</td>\n",
       "      <td>nan</td>\n",
       "    </tr>\n",
       "    <tr>\n",
       "      <th>790</th>\n",
       "      <td>nadin-er</td>\n",
       "      <td>25 май 2020</td>\n",
       "      <td>у дочки на лице угри пошли. Хоть и следит за к...</td>\n",
       "      <td>Beauty</td>\n",
       "      <td>nan</td>\n",
       "    </tr>\n",
       "    <tr>\n",
       "      <th>791</th>\n",
       "      <td>nadin-er</td>\n",
       "      <td>25 май 2020</td>\n",
       "      <td>а он не совсем для взрослых? Если это антибиот...</td>\n",
       "      <td>Beauty</td>\n",
       "      <td>это подростковое, тут курс лечения достаточно ...</td>\n",
       "    </tr>\n",
       "  </tbody>\n",
       "</table>\n",
       "<p>792 rows × 5 columns</p>\n",
       "</div>"
      ],
      "text/plain": [
       "                  users        times  \\\n",
       "0         womantalks.ru   5 сен 2015   \n",
       "1                 Киана  19 май 2016   \n",
       "2             elenavolk  22 май 2016   \n",
       "3                lena.a  24 май 2016   \n",
       "4              Ласковая  27 авг 2016   \n",
       "..                  ...          ...   \n",
       "787  Валерия Соломонова  17 апр 2018   \n",
       "788    farovskayaoksana  27 май 2018   \n",
       "789              Галина  17 июл 2019   \n",
       "790            nadin-er  25 май 2020   \n",
       "791            nadin-er  25 май 2020   \n",
       "\n",
       "                                                  text   topic  \\\n",
       "0    Кудри издавна считались особым элементом приче...  Beauty   \n",
       "1    Все время делаю себе кудри именно утюжком полу...  Beauty   \n",
       "2                        красиво то как, и я так хочу)  Beauty   \n",
       "3             красиво, но волосы портятся будь здоров)  Beauty   \n",
       "4    Это точно, от плоек и утюжков волосы сильнее п...  Beauty   \n",
       "..                                                 ...     ...   \n",
       "787  тут спор про ретасол вышел, тоже хочу свое мне...  Beauty   \n",
       "788  Мне очень здорово серия серацин помогает ) поп...  Beauty   \n",
       "789  Про ПП лекции читать не собираюсь, но это прав...  Beauty   \n",
       "790  у дочки на лице угри пошли. Хоть и следит за к...  Beauty   \n",
       "791  а он не совсем для взрослых? Если это антибиот...  Beauty   \n",
       "\n",
       "                                                 quote  \n",
       "0                                                  nan  \n",
       "1                                                  nan  \n",
       "2                                                  nan  \n",
       "3                                                  nan  \n",
       "4                                                  nan  \n",
       "..                                                 ...  \n",
       "787                                                nan  \n",
       "788                                                nan  \n",
       "789                                                nan  \n",
       "790                                                nan  \n",
       "791  это подростковое, тут курс лечения достаточно ...  \n",
       "\n",
       "[792 rows x 5 columns]"
      ]
     },
     "execution_count": 35,
     "metadata": {},
     "output_type": "execute_result"
    }
   ],
   "source": [
    "D"
   ]
  },
  {
   "cell_type": "code",
   "execution_count": 36,
   "metadata": {},
   "outputs": [],
   "source": [
    "D.to_csv('Beauty.csv', index=False)"
   ]
  },
  {
   "cell_type": "code",
   "execution_count": 37,
   "metadata": {},
   "outputs": [
    {
     "data": {
      "text/html": [
       "<div>\n",
       "<style scoped>\n",
       "    .dataframe tbody tr th:only-of-type {\n",
       "        vertical-align: middle;\n",
       "    }\n",
       "\n",
       "    .dataframe tbody tr th {\n",
       "        vertical-align: top;\n",
       "    }\n",
       "\n",
       "    .dataframe thead th {\n",
       "        text-align: right;\n",
       "    }\n",
       "</style>\n",
       "<table border=\"1\" class=\"dataframe\">\n",
       "  <thead>\n",
       "    <tr style=\"text-align: right;\">\n",
       "      <th></th>\n",
       "      <th>users</th>\n",
       "      <th>times</th>\n",
       "      <th>text</th>\n",
       "      <th>topic</th>\n",
       "      <th>quote</th>\n",
       "    </tr>\n",
       "  </thead>\n",
       "  <tbody>\n",
       "    <tr>\n",
       "      <th>0</th>\n",
       "      <td>womantalks.ru</td>\n",
       "      <td>5 сен 2015</td>\n",
       "      <td>Кудри издавна считались особым элементом приче...</td>\n",
       "      <td>Beauty</td>\n",
       "      <td>NaN</td>\n",
       "    </tr>\n",
       "    <tr>\n",
       "      <th>1</th>\n",
       "      <td>Киана</td>\n",
       "      <td>19 май 2016</td>\n",
       "      <td>Все время делаю себе кудри именно утюжком полу...</td>\n",
       "      <td>Beauty</td>\n",
       "      <td>NaN</td>\n",
       "    </tr>\n",
       "    <tr>\n",
       "      <th>2</th>\n",
       "      <td>elenavolk</td>\n",
       "      <td>22 май 2016</td>\n",
       "      <td>красиво то как, и я так хочу)</td>\n",
       "      <td>Beauty</td>\n",
       "      <td>NaN</td>\n",
       "    </tr>\n",
       "    <tr>\n",
       "      <th>3</th>\n",
       "      <td>lena.a</td>\n",
       "      <td>24 май 2016</td>\n",
       "      <td>красиво, но волосы портятся будь здоров)</td>\n",
       "      <td>Beauty</td>\n",
       "      <td>NaN</td>\n",
       "    </tr>\n",
       "    <tr>\n",
       "      <th>4</th>\n",
       "      <td>Ласковая</td>\n",
       "      <td>27 авг 2016</td>\n",
       "      <td>Это точно, от плоек и утюжков волосы сильнее п...</td>\n",
       "      <td>Beauty</td>\n",
       "      <td>NaN</td>\n",
       "    </tr>\n",
       "    <tr>\n",
       "      <th>...</th>\n",
       "      <td>...</td>\n",
       "      <td>...</td>\n",
       "      <td>...</td>\n",
       "      <td>...</td>\n",
       "      <td>...</td>\n",
       "    </tr>\n",
       "    <tr>\n",
       "      <th>787</th>\n",
       "      <td>Валерия Соломонова</td>\n",
       "      <td>17 апр 2018</td>\n",
       "      <td>тут спор про ретасол вышел, тоже хочу свое мне...</td>\n",
       "      <td>Beauty</td>\n",
       "      <td>NaN</td>\n",
       "    </tr>\n",
       "    <tr>\n",
       "      <th>788</th>\n",
       "      <td>farovskayaoksana</td>\n",
       "      <td>27 май 2018</td>\n",
       "      <td>Мне очень здорово серия серацин помогает ) поп...</td>\n",
       "      <td>Beauty</td>\n",
       "      <td>NaN</td>\n",
       "    </tr>\n",
       "    <tr>\n",
       "      <th>789</th>\n",
       "      <td>Галина</td>\n",
       "      <td>17 июл 2019</td>\n",
       "      <td>Про ПП лекции читать не собираюсь, но это прав...</td>\n",
       "      <td>Beauty</td>\n",
       "      <td>NaN</td>\n",
       "    </tr>\n",
       "    <tr>\n",
       "      <th>790</th>\n",
       "      <td>nadin-er</td>\n",
       "      <td>25 май 2020</td>\n",
       "      <td>у дочки на лице угри пошли. Хоть и следит за к...</td>\n",
       "      <td>Beauty</td>\n",
       "      <td>NaN</td>\n",
       "    </tr>\n",
       "    <tr>\n",
       "      <th>791</th>\n",
       "      <td>nadin-er</td>\n",
       "      <td>25 май 2020</td>\n",
       "      <td>а он не совсем для взрослых? Если это антибиот...</td>\n",
       "      <td>Beauty</td>\n",
       "      <td>это подростковое, тут курс лечения достаточно ...</td>\n",
       "    </tr>\n",
       "  </tbody>\n",
       "</table>\n",
       "<p>792 rows × 5 columns</p>\n",
       "</div>"
      ],
      "text/plain": [
       "                  users        times  \\\n",
       "0         womantalks.ru   5 сен 2015   \n",
       "1                 Киана  19 май 2016   \n",
       "2             elenavolk  22 май 2016   \n",
       "3                lena.a  24 май 2016   \n",
       "4              Ласковая  27 авг 2016   \n",
       "..                  ...          ...   \n",
       "787  Валерия Соломонова  17 апр 2018   \n",
       "788    farovskayaoksana  27 май 2018   \n",
       "789              Галина  17 июл 2019   \n",
       "790            nadin-er  25 май 2020   \n",
       "791            nadin-er  25 май 2020   \n",
       "\n",
       "                                                  text   topic  \\\n",
       "0    Кудри издавна считались особым элементом приче...  Beauty   \n",
       "1    Все время делаю себе кудри именно утюжком полу...  Beauty   \n",
       "2                        красиво то как, и я так хочу)  Beauty   \n",
       "3             красиво, но волосы портятся будь здоров)  Beauty   \n",
       "4    Это точно, от плоек и утюжков волосы сильнее п...  Beauty   \n",
       "..                                                 ...     ...   \n",
       "787  тут спор про ретасол вышел, тоже хочу свое мне...  Beauty   \n",
       "788  Мне очень здорово серия серацин помогает ) поп...  Beauty   \n",
       "789  Про ПП лекции читать не собираюсь, но это прав...  Beauty   \n",
       "790  у дочки на лице угри пошли. Хоть и следит за к...  Beauty   \n",
       "791  а он не совсем для взрослых? Если это антибиот...  Beauty   \n",
       "\n",
       "                                                 quote  \n",
       "0                                                  NaN  \n",
       "1                                                  NaN  \n",
       "2                                                  NaN  \n",
       "3                                                  NaN  \n",
       "4                                                  NaN  \n",
       "..                                                 ...  \n",
       "787                                                NaN  \n",
       "788                                                NaN  \n",
       "789                                                NaN  \n",
       "790                                                NaN  \n",
       "791  это подростковое, тут курс лечения достаточно ...  \n",
       "\n",
       "[792 rows x 5 columns]"
      ]
     },
     "execution_count": 37,
     "metadata": {},
     "output_type": "execute_result"
    }
   ],
   "source": [
    "D = pd.read_csv('Beauty.csv')\n",
    "D"
   ]
  },
  {
   "cell_type": "code",
   "execution_count": null,
   "metadata": {},
   "outputs": [],
   "source": []
  },
  {
   "cell_type": "code",
   "execution_count": null,
   "metadata": {},
   "outputs": [],
   "source": []
  },
  {
   "cell_type": "code",
   "execution_count": 39,
   "metadata": {},
   "outputs": [
    {
     "data": {
      "text/plain": [
       "array([498, 427, 406,  73, 433, 605, 630, 483, 649,   1,  54, 530, 245,\n",
       "       471, 514, 152, 552, 202, 428, 567, 415, 233, 100, 174, 258, 345,\n",
       "       379, 475, 219, 116, 166,  26, 350, 262, 476, 782, 276, 439, 652,\n",
       "       337, 293, 616, 507, 487, 147, 291,  63, 590, 741,  77])"
      ]
     },
     "execution_count": 39,
     "metadata": {},
     "output_type": "execute_result"
    }
   ],
   "source": [
    "import random\n",
    "import numpy as np\n",
    "ind = np.random.choice(len(D), 50, False)\n",
    "ind"
   ]
  },
  {
   "cell_type": "code",
   "execution_count": 40,
   "metadata": {},
   "outputs": [],
   "source": [
    "X = []\n",
    "for i in ind:\n",
    "    X.append(D['text'][i])"
   ]
  },
  {
   "cell_type": "code",
   "execution_count": 45,
   "metadata": {},
   "outputs": [],
   "source": [
    "count = 0 # счетчик хороших записей"
   ]
  },
  {
   "cell_type": "code",
   "execution_count": 137,
   "metadata": {},
   "outputs": [
    {
     "ename": "IndexError",
     "evalue": "list index out of range",
     "output_type": "error",
     "traceback": [
      "\u001b[0;31m---------------------------------------------------------------------------\u001b[0m",
      "\u001b[0;31mIndexError\u001b[0m                                Traceback (most recent call last)",
      "\u001b[0;32m/tmp/ipykernel_5878/3551943599.py\u001b[0m in \u001b[0;36m<module>\u001b[0;34m\u001b[0m\n\u001b[0;32m----> 1\u001b[0;31m \u001b[0mX\u001b[0m\u001b[0;34m[\u001b[0m\u001b[0;36m50\u001b[0m\u001b[0;34m]\u001b[0m\u001b[0;34m\u001b[0m\u001b[0;34m\u001b[0m\u001b[0m\n\u001b[0m",
      "\u001b[0;31mIndexError\u001b[0m: list index out of range"
     ]
    }
   ],
   "source": [
    "X[50]"
   ]
  },
  {
   "cell_type": "code",
   "execution_count": 136,
   "metadata": {},
   "outputs": [
    {
     "name": "stdout",
     "output_type": "stream",
     "text": [
      "42\n"
     ]
    }
   ],
   "source": [
    "count+=1\n",
    "print(count)"
   ]
  },
  {
   "cell_type": "code",
   "execution_count": 138,
   "metadata": {},
   "outputs": [
    {
     "data": {
      "text/plain": [
       "0.84"
      ]
     },
     "execution_count": 138,
     "metadata": {},
     "output_type": "execute_result"
    }
   ],
   "source": [
    "42/(50)"
   ]
  },
  {
   "cell_type": "code",
   "execution_count": null,
   "metadata": {},
   "outputs": [],
   "source": []
  }
 ],
 "metadata": {
  "kernelspec": {
   "display_name": "Python 3 (ipykernel)",
   "language": "python",
   "name": "python3"
  },
  "language_info": {
   "codemirror_mode": {
    "name": "ipython",
    "version": 3
   },
   "file_extension": ".py",
   "mimetype": "text/x-python",
   "name": "python",
   "nbconvert_exporter": "python",
   "pygments_lexer": "ipython3",
   "version": "3.8.8"
  }
 },
 "nbformat": 4,
 "nbformat_minor": 2
}
